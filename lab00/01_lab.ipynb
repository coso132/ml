{
 "cells": [
  {
   "cell_type": "markdown",
   "metadata": {},
   "source": [
    "# Contenuti\n",
    "- [Introduzione a Jupyter](#Introduzione-a-Jupyter)\n",
    "- [Ripasso su Python](#Ripasso-su-Python)\n",
    "    - [Variabili](#Variabili)\n",
    "    - [Tipi di base](#Tipi-di-base)\n",
    "        - [Numeri](#Numeri)\n",
    "        - [Booleani](#Booleani)\n",
    "        - [Stringhe](#Stringhe)\n",
    "    - [Tipi complessi](#Tipi-complessi)\n",
    "        - [Liste](#Liste)\n",
    "            - [Slicing](#Slicing)\n",
    "        - [Tuple](#Tuple)\n",
    "        - [Set](#Set)\n",
    "        - [Dizionari](#Dizionari)\n",
    "    - [Blocchi condizionali e cicli](#Blocchi-condizionali-e-cicli)\n",
    "        - [Esercizio 1](#Esercizio-1)\n",
    "    - [Funzioni](#Funzioni)\n",
    "        - [Esercizio 2](#Esercizio-2)\n"
   ]
  },
  {
   "cell_type": "markdown",
   "metadata": {},
   "source": [
    "# Introduzione a Jupyter\n",
    "A differenza di un IDE classico, **Jupyter** permette di alternare parti di descrizione a parti di codice liberamente modificabile. Il codice contenuto in una cella di tipo Code può essere eseguito selezionando tale cella e cliccando sulla freccia in alto (Run) oppure premendo **Shift+Enter**.\n",
    "\n",
    "Provate ad eseguire il codice contenuto nella cella seguente."
   ]
  },
  {
   "cell_type": "code",
   "execution_count": 1,
   "metadata": {},
   "outputs": [],
   "source": [
    "variabile = 10"
   ]
  },
  {
   "cell_type": "markdown",
   "metadata": {},
   "source": [
    "Jupyter esegue il codice contenuto nelle celle in una apposita istanza dell'interprete di Python che manterrà internamente lo stato delle variabili e la lista delle funzioni dichiarate. Pertanto, la dichiarazione o la modifica di una variabile, effettuata eseguendo il codice contenuto in una cella, sarà visibile anche in tutte le altre. L'ambiente di esecuzione può essere resettato scegliendo l'opzione **Restart & Clear Output** dal menù **Kernel**.\n",
    "\n",
    "Provate ora a eseguire il codice contenuto nella cella seguente."
   ]
  },
  {
   "cell_type": "code",
   "execution_count": 3,
   "metadata": {
    "scrolled": true
   },
   "outputs": [
    {
     "name": "stdout",
     "output_type": "stream",
     "text": [
      "la variabile forse vale: 10\n"
     ]
    }
   ],
   "source": [
    "print('la variabile forse vale:', variabile)"
   ]
  },
  {
   "cell_type": "markdown",
   "metadata": {},
   "source": [
    "Il codice viene eseguito e se, come nel caso precedente, presenta funzioni per stampa a video, il risultato viene visualizzato immediatamente sotto.\n",
    "\n",
    "Ricordate, durante lo svolgimento degli esercizi, di salvare spesso le modifiche apportate al notebook: Jupyter non salva automaticamente le modifiche apportate e potreste perdere i vostri risultati.\n",
    "\n",
    "Allo stesso tempo ricordate di non aprire lo stesso notebook più pagine del browser, perchè modifiche su pagine differenti possono dare risultati inattesi.\n",
    "\n",
    "Ulteriori dettagli su come formattare il testo dei file Jupyter con Markdown lo trovate a questo [link](https://it.softpython.org/project/markdown.html#)"
   ]
  },
  {
   "cell_type": "markdown",
   "metadata": {},
   "source": [
    "# Ripasso su Python\n",
    "Di seguito saranno presentate le caratteristiche principali di Python utili per lo svolgimento delle esercitazioni. Per ulteriori approfondimenti si consiglia di consultare il seguente [tutorial](http://cs231n.github.io/python-numpy-tutorial/) oppure il [sito ufficiale](https://www.python.org/).\n",
    "\n",
    "La versione che utilizzeremo per le esercitazioni è la 3.10 ma online è ancora possibile trovare numerosi esempi e progetti basati sulla versione 2.\n",
    "\n",
    "Attenzione: tra le versioni 2 e 3 esistono delle differenze nella sintassi tra cui le più importanti sono:\n",
    "\n",
    "Python 2             | Python 3\n",
    "-------------        | -------------\n",
    "print x              | print(x)\n",
    "4/3 = 1              | 4/3 = 1.33333, 4//3 = 1\n",
    "raw_input()          | input()\n",
    "file(“my_file.txt”)  | open(“my_file.txt”)\n",
    "xrange()             | range()\n",
    "\n",
    "\n",
    "## Variabili\n",
    "Python è un linguaggio interpretato e la tipizzazione è dinamica. La dichiarazione di una variabile avviene semplicemente assegnando un valore alla variabile che intendiamo dichiarare."
   ]
  },
  {
   "cell_type": "code",
   "execution_count": 3,
   "metadata": {},
   "outputs": [
    {
     "name": "stdout",
     "output_type": "stream",
     "text": [
      "<class 'int'>\n"
     ]
    }
   ],
   "source": [
    "print(type(variabile))"
   ]
  },
  {
   "cell_type": "markdown",
   "metadata": {},
   "source": [
    "Come accennato in precedenza, le variabili e le funzioni sono visibili in tutto il notebook, purchè siano state eseguite le celle che ne contengono le dichiarazioni. Ad esempio, se non avete eseguito la prima cella di questo notebook, il codice seguente vi restituirà un errore."
   ]
  },
  {
   "cell_type": "code",
   "execution_count": 4,
   "metadata": {},
   "outputs": [
    {
     "ename": "NameError",
     "evalue": "name 'variable' is not defined",
     "output_type": "error",
     "traceback": [
      "\u001b[1;31m---------------------------------------------------------------------------\u001b[0m",
      "\u001b[1;31mNameError\u001b[0m                                 Traceback (most recent call last)",
      "Cell \u001b[1;32mIn[4], line 1\u001b[0m\n\u001b[1;32m----> 1\u001b[0m \u001b[38;5;28mprint\u001b[39m(\u001b[43mvariable\u001b[49m)\n",
      "\u001b[1;31mNameError\u001b[0m: name 'variable' is not defined"
     ]
    }
   ],
   "source": [
    "print(variable)"
   ]
  },
  {
   "cell_type": "markdown",
   "metadata": {
    "editable": false
   },
   "source": [
    "Essendo Python un linguaggio a tipizzazione dinamica è possibile modificare il tipo delle variabili durante l'esecuzione."
   ]
  },
  {
   "cell_type": "code",
   "execution_count": 7,
   "metadata": {},
   "outputs": [
    {
     "name": "stdout",
     "output_type": "stream",
     "text": [
      "<class 'str'>\n",
      "Hi there!\n"
     ]
    }
   ],
   "source": [
    "variable = 'Hi there!'\n",
    "print(type(variable))\n",
    "print(variable)"
   ]
  },
  {
   "cell_type": "markdown",
   "metadata": {
    "editable": false
   },
   "source": [
    "Come avrete notato, la stampa di informazioni su *standard output* è affidata alla funzione **print(...)**. Questa accetta in input un numero variabile di parametri. Provate a modificare il contenuto di *my_name* e a eseguire la cella seguente."
   ]
  },
  {
   "cell_type": "code",
   "execution_count": 7,
   "metadata": {},
   "outputs": [
    {
     "name": "stdout",
     "output_type": "stream",
     "text": [
      "Ciao <class 'float'> come stai?\n"
     ]
    }
   ],
   "source": [
    "my_name = (type(12.34))\n",
    "\n",
    "# Print aggiunge uno spazio tra i parametri e infine aggiunge una newline (\\n) alla fine dell'output\n",
    "print('Ciao', my_name, 'come stai?') "
   ]
  },
  {
   "cell_type": "markdown",
   "metadata": {
    "editable": false
   },
   "source": [
    "## Tipi di base\n",
    "Come accade per altri linguaggi, Python mette a disposizione un insieme di tipi di base: *integer*, *float*, *boolean*, e *string*."
   ]
  },
  {
   "cell_type": "markdown",
   "metadata": {
    "editable": false
   },
   "source": [
    "### Numeri"
   ]
  },
  {
   "cell_type": "code",
   "execution_count": 9,
   "metadata": {},
   "outputs": [
    {
     "name": "stdout",
     "output_type": "stream",
     "text": [
      "<class 'int'>\n",
      "3\n",
      "4\n",
      "2\n",
      "6\n",
      "9\n",
      "4\n",
      "8\n",
      "<class 'float'>\n",
      "2.5 3.5 5.0 6.25\n"
     ]
    }
   ],
   "source": [
    "x = 3\n",
    "print(type(x)) # Stampa \"<class 'int'>\"\n",
    "print(x)       # Stampa \"3\"\n",
    "print(x + 1)   # Addizione; stampa \"4\"\n",
    "print(x - 1)   # Sottrazione; stampa \"2\"\n",
    "print(x * 2)   # Moltiplicazione; stampa \"6\"\n",
    "print(x ** 2)  # Elevazione a potenza; stampa \"9\"\n",
    "x += 1\n",
    "print(x)       # Stampa \"4\"\n",
    "x *= 2\n",
    "print(x)       # Stampa \"8\"\n",
    "y = 2.5\n",
    "print(type(y)) # Stampa \"<class 'float'>\"\n",
    "print(y, y + 1, y * 2, y ** 2) # Stampa \"2.5 3.5 5.0 6.25\"\n",
    "\n",
    "# Nota: non sono presenti gli operatori unari di incremento e decremento\n",
    "# x++ -> Errore\n",
    "# x-- -> Errore"
   ]
  },
  {
   "cell_type": "markdown",
   "metadata": {
    "editable": false
   },
   "source": [
    "### Booleani\n",
    "In Python i valori *vero* e *falso* sono rispettivamente **True** e **False**, obbligatoriamente con la prima lettera maiuscola."
   ]
  },
  {
   "cell_type": "code",
   "execution_count": 8,
   "metadata": {},
   "outputs": [
    {
     "name": "stdout",
     "output_type": "stream",
     "text": [
      "<class 'bool'>\n",
      "False\n",
      "True\n",
      "False\n",
      "True\n"
     ]
    }
   ],
   "source": [
    "t = True\n",
    "f = False\n",
    "print(type(t)) # Stampa \"<class 'bool'>\"\n",
    "print(t and f) # AND; stampa \"False\"\n",
    "print(t or f)  # OR; stampa \"True\"\n",
    "print(not t)   # NOT; stampa \"False\"\n",
    "print(t != f)  # XOR; stampa \"True\""
   ]
  },
  {
   "cell_type": "markdown",
   "metadata": {
    "editable": false
   },
   "source": [
    "### Stringhe\n",
    "Il contenuto delle stringhe può essere esplicitato sia usando gli apici singoli (') che doppi (\").\n",
    "\n",
    "Le principali operazioni per la manipolazione delle stringhe sono disponibili senza dover far uso di librerie esterne."
   ]
  },
  {
   "cell_type": "code",
   "execution_count": 12,
   "metadata": {},
   "outputs": [
    {
     "name": "stdout",
     "output_type": "stream",
     "text": [
      "<class 'str'>\n",
      "hello\n",
      "5\n",
      "hello world\n",
      "hello world 12\n"
     ]
    }
   ],
   "source": [
    "hello = 'hello'                          # È possibile dichiarare le stringhe usando gli apici singoli\n",
    "world = \"world\"                          # oppure gli apici doppi; non vi è alcuna differenza.\n",
    "\n",
    "print(type(hello))                       # Stampa \"<class 'str'>\"\n",
    "\n",
    "print(hello)                             # Stampa \"hello\"\n",
    "print(len(hello))                        # Lunghezza della stringa; stampa \"5\"\n",
    "\n",
    "hw = hello + ' ' + world                 # Concatenazione\n",
    "print(hw)                                # Stampa \"hello world\"\n",
    "\n",
    "hw12 = '%s %s %d' % (hello, world, 12)   # Formattazione in stile sprintf\n",
    "print(hw12)                              # Stampa \"hello world 12\""
   ]
  },
  {
   "cell_type": "markdown",
   "metadata": {
    "editable": false
   },
   "source": [
    "La classe **str** mette a disposizione numerosi metodi tra cui:"
   ]
  },
  {
   "cell_type": "code",
   "execution_count": 13,
   "metadata": {},
   "outputs": [
    {
     "name": "stdout",
     "output_type": "stream",
     "text": [
      "Hello\n",
      "HELLO\n",
      "  hello\n",
      " hello \n",
      "he(ell)(ell)o\n",
      "world\n"
     ]
    }
   ],
   "source": [
    "s = 'hello'\n",
    "print(s.capitalize()) # Rende il primo carattere maiuscolo e il resto minuscolo; \n",
    "                      # stampa \"Hello\"\n",
    "print(s.upper())      # Converte una stringa in maiuscolo;\n",
    "                      # stampa \"HELLO\"\n",
    "print(s.rjust(7))     # Giustifica a destra, aggiungendo spazi;\n",
    "                      # stampa \"  hello\"\n",
    "print(s.center(7))    # Centra una stringa, aggiungendo spazi;\n",
    "                      # stampa \" hello \"\n",
    "print(s.replace('l', '(ell)')) # Sostituisce le istanze di una sottostringa; \n",
    "                               # stampa \"he(ell)(ell)o\"\n",
    "print(' world '.strip())       # Elimina gli spazi a inizio e fine stringa;\n",
    "                               # stampa \"world\""
   ]
  },
  {
   "cell_type": "markdown",
   "metadata": {
    "editable": false
   },
   "source": [
    "## Tipi complessi\n",
    "Python include diversi tipi di contenitori: *list*, *dictionary*, *set* e *tuple*."
   ]
  },
  {
   "cell_type": "markdown",
   "metadata": {
    "editable": false
   },
   "source": [
    "### Liste\n",
    "In Python le liste sono estremamente simili agli *array* incontrati in altri linguaggi. La principale differenza è che **in Python una lista può contenere elementi di tipi differenti**.\n",
    "\n",
    "La funzione **print(...)** è in grado di visualizzare il contenuto delle liste con una singola chiamata (senza la necessità di iterare sui singoli elementi)."
   ]
  },
  {
   "cell_type": "code",
   "execution_count": 9,
   "metadata": {},
   "outputs": [
    {
     "name": "stdout",
     "output_type": "stream",
     "text": [
      "<class 'list'>\n",
      "[3, 1, 2] 2\n",
      "2\n",
      "[3, 1, 'foo']\n",
      "[3, 1, 'foo', 'bar']\n",
      "bar [3, 1, 'foo']\n",
      "[1, 2, 0, 0]\n",
      "3\n"
     ]
    }
   ],
   "source": [
    "xs = [3, 1, 2]       # Crea una lista\n",
    "print(type(xs))      # Stampa \"<class 'list'>\"\n",
    "print(xs, xs[2])     # Stampa \"[3, 1, 2] 2\"\n",
    "print(xs[-1])        # Gli indici negativi contano dalla fine della lista; stampa \"2\"\n",
    "xs[2] = 'foo'        # Le liste possono contenere elementi di tipi diversi\n",
    "print(xs)            # Stampa \"[3, 1, 'foo']\"\n",
    "xs.append('bar')     # Aggiungi un elemento alla fine della lista\n",
    "print(xs)            # Stampa \"[3, 1, 'foo', 'bar']\"\n",
    "x = xs.pop()         # Rimuove e restituisce l'ultimo elemento\n",
    "print(x, xs)         # Stampa \"bar [3, 1, 'foo']\"\n",
    "\n",
    "list1 = [1, 2]\n",
    "list2 = [0, 0]\n",
    "print(list1 + list2) # Esempio di concatenazione\n",
    "\n",
    "print(len(xs))       # La lunghezza di una lista è ottenibile utilizzando len(list)"
   ]
  },
  {
   "cell_type": "markdown",
   "metadata": {
    "editable": false
   },
   "source": [
    "#### Slicing\n",
    "Oltre a poter accedere agli elementi di una lista uno alla volta vi è una sintassi apposita e coincisa per accedere a sotto-liste:"
   ]
  },
  {
   "cell_type": "code",
   "execution_count": null,
   "metadata": {},
   "outputs": [],
   "source": [
    "nums = list(range(5)) # range è una funzione che crea una lista di interi\n",
    "print(nums)           # Stampa \"[0, 1, 2, 3, 4]\"\n",
    "print(nums[2:4])      # Ottiene una slice dall'indice 2 al 4 (escluso); stampa \"[2, 3]\"\n",
    "print(nums[2:])       # Ottiene una slice dall'indice 2 alla fine; stampa \"[2, 3, 4]\"\n",
    "print(nums[:2])       # Ottiene una slice dall'inizio all'indice 2 (escluso); stampa \"[0, 1]\"\n",
    "print(nums[:])        # Ottiene una slice di tutta la lista; stampa \"[0, 1, 2, 3, 4]\"\n",
    "print(nums[:-1])      # Gli indici di una slice possono essere negativi; stampa \"[0, 1, 2, 3]\"\n",
    "nums[2:4] = [8, 9]    # Assegna una nuova sotto-lista a una slice\n",
    "print(nums)           # Stampa \"[0, 1, 8, 9, 4]\""
   ]
  },
  {
   "cell_type": "markdown",
   "metadata": {
    "editable": false
   },
   "source": [
    "### Tuple\n",
    "Le **tuple** sono estremamente simili alle liste. Le uniche differenze risiedono nella sintassi con cui vengono dichiarate e dal fatto che, differentemente dalle liste, le tuple sono **immutabili**: questo significa che non è possibile riassegnare un elemento di una tupla. Tuttavia l'immutabilità non si applica anche allo stato interno degli elementi contenuti. Per il resto valgono tutte le operazioni viste in precedenza per le liste."
   ]
  },
  {
   "cell_type": "code",
   "execution_count": 10,
   "metadata": {},
   "outputs": [
    {
     "name": "stdout",
     "output_type": "stream",
     "text": [
      "<class 'tuple'>\n",
      "Slice: (1, 'a')\n",
      "Concatenazione: (1, 'a', [3, 6], 'Hi', 'There')\n",
      "Concatenazione: (1, 'a', [3, 6], 5)\n",
      "Dopo la modifica: (1, 'a', [4, 6])\n"
     ]
    }
   ],
   "source": [
    "tuple_example = (1, 'a', [3, 6])\n",
    "\n",
    "# Stampa \"<class 'tuple'>\"\n",
    "print(type(tuple_example))\n",
    "\n",
    "# Valgono le operazioni di slice\n",
    "print('Slice:', tuple_example[0:2])\n",
    "\n",
    "# Vale l'operazione di concatenazione\n",
    "print('Concatenazione:', tuple_example + ('Hi', 'There'))\n",
    "\n",
    "# È possibile dichiarare una tupla lasciando una ',' finale.\n",
    "# A volte questo è necessario: provate a rimuovere la ',' nella linea seguente e a ri-eseguire il codice\n",
    "tuple_example2 = (5,)\n",
    "print('Concatenazione:', tuple_example + tuple_example2)\n",
    "\n",
    "#esempioTupla[0] = 3 --> errore, le tuple sono immutabili\n",
    "\n",
    "# Gli elementi contenuti in una tupla hanno comunque uno stato mutabile\n",
    "tuple_example[2][0] = 4\n",
    "print('Dopo la modifica:', tuple_example)"
   ]
  },
  {
   "cell_type": "markdown",
   "metadata": {
    "editable": false
   },
   "source": [
    "### Set\n",
    "I **set** contengono un insieme **non ordinato** di elementi mutabili che possono essere anche di tipi diversi. La sintassi per la dichiarazione di un set è simile a quella utilizzata per dichiarare una lista o una tupla, ma vengono utilizzate le parentesi graffe per racchiudere gli elementi."
   ]
  },
  {
   "cell_type": "code",
   "execution_count": 5,
   "metadata": {},
   "outputs": [
    {
     "name": "stdout",
     "output_type": "stream",
     "text": [
      "<class 'set'>\n"
     ]
    }
   ],
   "source": [
    "set_example = {'a', 'b', 'a', 'c'}\n",
    "print(type(set_example))"
   ]
  },
  {
   "cell_type": "markdown",
   "metadata": {
    "editable": false
   },
   "source": [
    "Come avviene per altre strutture dati, l'istruzione **print(...)** è in grado di stampare il contenuto di una variabile di tipo set. Da notare che gli elementi duplicati sono stati rimossi e l'ordine iniziale degli elementi non è stato preservato."
   ]
  },
  {
   "cell_type": "code",
   "execution_count": 6,
   "metadata": {},
   "outputs": [
    {
     "name": "stdout",
     "output_type": "stream",
     "text": [
      "{'b', 'c', 'a'}\n",
      "Numero elementi nel set: 3\n"
     ]
    }
   ],
   "source": [
    "print(set_example)\n",
    "\n",
    "# È possibile utilizzare len(...) per ottenere il numero di elementi contenuti\n",
    "print('Numero elementi nel set:', len(set_example))"
   ]
  },
  {
   "cell_type": "markdown",
   "metadata": {
    "editable": false,
    "homework": true
   },
   "source": [
    "A differenza di liste e tuple, i set non possono contenere al loro interno elementi mutabili (es. una lista)."
   ]
  },
  {
   "cell_type": "code",
   "execution_count": 7,
   "metadata": {
    "homework": true
   },
   "outputs": [
    {
     "ename": "TypeError",
     "evalue": "unhashable type: 'list'",
     "output_type": "error",
     "traceback": [
      "\u001b[1;31m---------------------------------------------------------------------------\u001b[0m",
      "\u001b[1;31mTypeError\u001b[0m                                 Traceback (most recent call last)",
      "Cell \u001b[1;32mIn[7], line 1\u001b[0m\n\u001b[1;32m----> 1\u001b[0m set_example2 \u001b[38;5;241m=\u001b[39m {\u001b[38;5;124m'\u001b[39m\u001b[38;5;124ma\u001b[39m\u001b[38;5;124m'\u001b[39m, \u001b[38;5;124m'\u001b[39m\u001b[38;5;124ma\u001b[39m\u001b[38;5;124m'\u001b[39m, [\u001b[38;5;241m0\u001b[39m], [\u001b[38;5;241m0\u001b[39m], [\u001b[38;5;241m0\u001b[39m, [\u001b[38;5;241m1\u001b[39m]], [\u001b[38;5;241m0\u001b[39m, [\u001b[38;5;241m1\u001b[39m]]}\n",
      "\u001b[1;31mTypeError\u001b[0m: unhashable type: 'list'"
     ]
    }
   ],
   "source": [
    "set_example2 = {'a', 'a', [0], [0], [0, [1]], [0, [1]]}"
   ]
  },
  {
   "cell_type": "markdown",
   "metadata": {
    "editable": false
   },
   "source": [
    "### Dizionari\n",
    "I **dict** sono strutture dato in grado di contenere coppie **chiave-valore**. Non vi sono restrizioni sui valori. Le restrizioni riguardano solo le chiavi: è possibile utilizzare qualsiasi valore immutabile come chiave. Per cui sono ammessi numeri, stringhe, tuple (queste ultime solo se contengono esclusivamente numeri, stringhe o altre tuple)."
   ]
  },
  {
   "cell_type": "code",
   "execution_count": 12,
   "metadata": {},
   "outputs": [
    {
     "name": "stdout",
     "output_type": "stream",
     "text": [
      "<class 'dict'>\n",
      "{'chiave1': 5, 'chiave2': 11}\n"
     ]
    }
   ],
   "source": [
    "dictionary_example = {'chiave1': 5, 'chiave2': 11}\n",
    "print(type(dictionary_example))\n",
    "\n",
    "print(dictionary_example)\n",
    "    \n",
    "# In un dizionario è anche possibile utilizzare chiavi di tipi diversi, tuple comprese\n",
    "dictionary_example2 = {'chiave1': 5, 72: 'Valore2', (3, 'a'): [1, 2, 3]}"
   ]
  },
  {
   "cell_type": "markdown",
   "metadata": {
    "editable": false
   },
   "source": [
    "Di seguito una breve panoramica delle principali operazioni consentite:"
   ]
  },
  {
   "cell_type": "code",
   "execution_count": 13,
   "metadata": {},
   "outputs": [
    {
     "name": "stdout",
     "output_type": "stream",
     "text": [
      "Dopo il cambio di valore: 3\n"
     ]
    }
   ],
   "source": [
    "dictionary_example['chiave1'] = 3 # Cambio di un valore\n",
    "print('Dopo il cambio di valore:', dictionary_example['chiave1'])\n",
    "\n",
    "dictionary_example['chiaveN'] = 3 # Inserimento di una nuova coppia chiave-valore\n",
    "\n",
    "del dictionary_example['chiave1'] # Eliminazione di una coppia chiave-valore\n",
    "\n",
    "# Quale potrebbe essere il risultato della linea seguente? Provate a decommentarla e ad eseguirla\n",
    "#del dictionary_example['chiaveInesistente'] "
   ]
  },
  {
   "cell_type": "markdown",
   "metadata": {
    "editable": false
   },
   "source": [
    "## Blocchi condizionali e cicli\n",
    "A differenza di altri linguaggi (es. C, C#, Java, ecc.) in Python non è necessario delimitare i blocchi di codice utilizzando parentesi graffe ({ }) o una specifica terminologia (begin/end).\n",
    "\n",
    "In generale, Python affida la creazione di uno scope all'**indentazione del codice**. Questa è l'unica considerevole differenza sintattica rispetto ad altri linguaggi.\n",
    "\n",
    "Questo significa che l’indentazione è significativa, e che indentare in modo incorretto può portare a errori o a comportamenti imprevisti del programma. Ad esempio:"
   ]
  },
  {
   "cell_type": "code",
   "execution_count": 14,
   "metadata": {
    "scrolled": true
   },
   "outputs": [
    {
     "name": "stdout",
     "output_type": "stream",
     "text": [
      "Eseguito sempre all’inizio\n",
      "Eseguito in mezzo solo se la condizione è vera\n",
      "Eseguito in mezzo solo se la condizione è vera\n",
      "Eseguito in mezzo solo se la condizione è vera\n",
      "Eseguito sempre alla fine\n"
     ]
    }
   ],
   "source": [
    "flag = True                                                  # 1\n",
    "print('Eseguito sempre all’inizio')                          # 2\n",
    "if flag:                                                     # 3\n",
    "    print('Eseguito in mezzo solo se la condizione è vera')  # 4\n",
    "    print('Eseguito in mezzo solo se la condizione è vera')  # 5\n",
    "    print('Eseguito in mezzo solo se la condizione è vera')  # 6\n",
    "print('Eseguito sempre alla fine')                           # 7"
   ]
  },
  {
   "cell_type": "markdown",
   "metadata": {
    "editable": false
   },
   "source": [
    "In questo esempio si nota che:\n",
    "1.\tLe istruzioni 1, 2, 3 e 7 hanno lo stesso livello di indentazione, e vengono sempre eseguite (non dipendono da nessuna condizione).\n",
    "2.\tLe istruzioni 4, 5 e 6 hanno un livello di indentazione maggiore e vengono eseguite solamente se la variabile *flag* è vera.\n",
    "\n",
    "### If"
   ]
  },
  {
   "cell_type": "code",
   "execution_count": 15,
   "metadata": {},
   "outputs": [
    {
     "name": "stdout",
     "output_type": "stream",
     "text": [
      "D\n"
     ]
    }
   ],
   "source": [
    "value1 = 3\n",
    "value2 = 5\n",
    "\n",
    "if value1 > value2:    # La condizione dell'if non è racchiusa tra parentesi tonde\n",
    "    print('A')\n",
    "elif value1 == value2: # elif è la keyword Python per il costrutto 'else if'\n",
    "    print('B')\n",
    "    print('C')\n",
    "else:\n",
    "    print('D')"
   ]
  },
  {
   "cell_type": "markdown",
   "metadata": {
    "editable": false,
    "homework": true
   },
   "source": [
    "#### In\n",
    "È possibile utilizzare la seguente sintassi per verificare se una chiave è contenuta in un dizionario oppure se un dato valore è contenuto in una lista, tupla o set."
   ]
  },
  {
   "cell_type": "code",
   "execution_count": 16,
   "metadata": {
    "homework": true
   },
   "outputs": [
    {
     "name": "stdout",
     "output_type": "stream",
     "text": [
      "chiave1 presente\n",
      "a presente\n"
     ]
    }
   ],
   "source": [
    "dictionary_example = {'chiave1': 5, 'chiave2': 11}\n",
    "\n",
    "if 'chiave1' in dictionary_example:\n",
    "    print('chiave1 presente')\n",
    "else:\n",
    "    print('chiave1 assente')\n",
    "\n",
    "set_example = {'a', 'b', 'a', 'c'}\n",
    "\n",
    "if 'a' in set_example:\n",
    "    print('a presente')\n",
    "else:\n",
    "    print('a assente')"
   ]
  },
  {
   "cell_type": "markdown",
   "metadata": {
    "editable": false,
    "homework": true
   },
   "source": [
    "È possibile verificare se una data chiave non è contenuta nel dizionario tramite **not in**:"
   ]
  },
  {
   "cell_type": "code",
   "execution_count": 10,
   "metadata": {
    "homework": true
   },
   "outputs": [
    {
     "name": "stdout",
     "output_type": "stream",
     "text": [
      "chiave1 presente\n",
      "chiave1 presente\n"
     ]
    }
   ],
   "source": [
    "# Sintassi consigliata\n",
    "if 'chiave1' not in dictionary_example:\n",
    "    print('chiave1 assente')\n",
    "else:\n",
    "    print('chiave1 presente')\n",
    "    \n",
    "# Sintassi funzionante, ma sconsigliata\n",
    "if not ('chiave1' in dictionary_example):\n",
    "    print('chiave1 assente')\n",
    "else:\n",
    "    print('chiave1 presente')"
   ]
  },
  {
   "cell_type": "markdown",
   "metadata": {
    "editable": false
   },
   "source": [
    "### For"
   ]
  },
  {
   "cell_type": "code",
   "execution_count": 11,
   "metadata": {},
   "outputs": [
    {
     "name": "stdout",
     "output_type": "stream",
     "text": [
      "0\n",
      "2\n",
      "4\n"
     ]
    }
   ],
   "source": [
    "for i in range(6):\n",
    "    if i % 2 == 0:\n",
    "        print(i)"
   ]
  },
  {
   "cell_type": "code",
   "execution_count": 12,
   "metadata": {},
   "outputs": [
    {
     "name": "stdout",
     "output_type": "stream",
     "text": [
      "cat\n",
      "dog\n",
      "monkey\n"
     ]
    }
   ],
   "source": [
    "animals = ['cat', 'dog', 'monkey']\n",
    "for animal in animals:\n",
    "    print(animal)"
   ]
  },
  {
   "cell_type": "code",
   "execution_count": 13,
   "metadata": {},
   "outputs": [
    {
     "name": "stdout",
     "output_type": "stream",
     "text": [
      "#1: cat\n",
      "#2: dog\n",
      "#3: monkey\n"
     ]
    }
   ],
   "source": [
    "animals = ['cat', 'dog', 'monkey']\n",
    "for idx, animal in enumerate(animals):\n",
    "    print('#%d: %s' % (idx + 1, animal))"
   ]
  },
  {
   "cell_type": "markdown",
   "metadata": {
    "editable": false,
    "homework": true
   },
   "source": [
    "La sintassi per iterare un set è esattamente quella usata nel caso di liste e tuple. Tuttavia non è possibile utilizzare la sintassi che fa uso di indici:"
   ]
  },
  {
   "cell_type": "code",
   "execution_count": null,
   "metadata": {
    "homework": true
   },
   "outputs": [],
   "source": [
    "set_example = {'a', 'b', 'a', 'c'}\n",
    "for x in set_example:\n",
    "    print(x)\n",
    "\n",
    "# Eseguire il seguente ciclo restituirebbe un errore: gli elementi di un set non sono ordinati\n",
    "#for i in range(len(set_example)):\n",
    "#    print(set_example[i])"
   ]
  },
  {
   "cell_type": "markdown",
   "metadata": {
    "editable": false,
    "homework": true
   },
   "source": [
    "Allo stesso modo è possibile iterare un dizionario. In questo caso vengono iterate le sole chiavi."
   ]
  },
  {
   "cell_type": "code",
   "execution_count": null,
   "metadata": {
    "homework": true
   },
   "outputs": [],
   "source": [
    "dictionary_example = {'chiave1': 5, 'chiave2': 11}\n",
    "\n",
    "for x in dictionary_example: # Itera le sole chiavi\n",
    "    print('Chiave:', x)\n",
    "    print('Valore associato:', dictionary_example[x])"
   ]
  },
  {
   "cell_type": "markdown",
   "metadata": {
    "editable": false,
    "homework": true
   },
   "source": [
    "In alternativa, per i dizionari è possibile utilizzare una sintassi più compatta:"
   ]
  },
  {
   "cell_type": "code",
   "execution_count": null,
   "metadata": {
    "homework": true
   },
   "outputs": [],
   "source": [
    "for key, value in dictionary_example.items(): # Itera le coppie chiave-valore\n",
    "    print('Alla chiave', key, 'corrisponde il valore', value)"
   ]
  },
  {
   "cell_type": "markdown",
   "metadata": {
    "editable": false
   },
   "source": [
    "### While"
   ]
  },
  {
   "cell_type": "code",
   "execution_count": null,
   "metadata": {
    "scrolled": true
   },
   "outputs": [],
   "source": [
    "while value2 > 0: # Come per l'if, la condizione non è racchiusa tra parentesi tonde\n",
    "    value2 -= 1\n",
    "    print(value2)"
   ]
  },
  {
   "cell_type": "markdown",
   "metadata": {
    "editable": false,
    "homework": true
   },
   "source": [
    "### Esercizio 1"
   ]
  },
  {
   "cell_type": "code",
   "execution_count": 19,
   "metadata": {
    "homework": true
   },
   "outputs": [
    {
     "name": "stdout",
     "output_type": "stream",
     "text": [
      "L'elemento all'indice 0 è: a\n",
      "L'elemento all'indice 1 è: b\n",
      "L'elemento all'indice 2 è: c\n",
      "L'elemento all'indice 3 è: d\n"
     ]
    }
   ],
   "source": [
    "# Esercizio 1.0\n",
    "# Quindi, per iterare un array:\n",
    "list1 = ['a', 'b', 'c', 'd']\n",
    "for i in range(len(list1)):\n",
    "    print('L\\'elemento all\\'indice', i, 'è:', list1[i])\n",
    "# ---> Oppure no?"
   ]
  },
  {
   "cell_type": "markdown",
   "metadata": {
    "editable": false,
    "homework": true
   },
   "source": [
    "La cella precedente presenta un errore. Lo *stack trace* è presentato in maniera diversa da come viene presentato in Java: in Python le chiamate più recenti e la descrizione dell'eccezione sono in basso anzichè in alto.\n",
    "\n",
    "In questo caso l'eccezione è *\"TypeError: 'int' object is not iterable\"*.\n",
    "\n",
    "Risolvete l'errore nella cella precedente. Per farlo andate a recuperare la sintassi del for vista poco prima. Per quale motivo è necessaria la correzione che avete apportato?"
   ]
  },
  {
   "cell_type": "code",
   "execution_count": null,
   "metadata": {},
   "outputs": [],
   "source": [
    "#Scrivi qui la soluzione corretta"
   ]
  },
  {
   "cell_type": "markdown",
   "metadata": {},
   "source": [
    "### List comprehensions\n",
    "Quando si programma, spesso si vuole trasformare un tipo di dati in un altro, o si vuole eseguire un'operazione su tutti gli elementi di una lista. Come semplice esempio, si consideri il seguente codice che calcola i numeri quadrati:"
   ]
  },
  {
   "cell_type": "code",
   "execution_count": 14,
   "metadata": {},
   "outputs": [
    {
     "name": "stdout",
     "output_type": "stream",
     "text": [
      "[0, 1, 4, 9, 16]\n"
     ]
    }
   ],
   "source": [
    "nums = [0, 1, 2, 3, 4]\n",
    "squares = []\n",
    "for x in nums:\n",
    "    squares.append(x ** 2)\n",
    "print(squares)"
   ]
  },
  {
   "cell_type": "markdown",
   "metadata": {},
   "source": [
    "È possibile semplificare questo codice utilizzando una list comprehension:"
   ]
  },
  {
   "cell_type": "code",
   "execution_count": 15,
   "metadata": {},
   "outputs": [
    {
     "name": "stdout",
     "output_type": "stream",
     "text": [
      "[0, 1, 4, 9, 16]\n"
     ]
    }
   ],
   "source": [
    "nums = [0, 1, 2, 3, 4]\n",
    "squares = [x ** 2 for x in nums]\n",
    "print(squares)"
   ]
  },
  {
   "cell_type": "markdown",
   "metadata": {},
   "source": [
    "Le list comprehensions possono anche contenere delle condizioni"
   ]
  },
  {
   "cell_type": "code",
   "execution_count": 16,
   "metadata": {},
   "outputs": [
    {
     "name": "stdout",
     "output_type": "stream",
     "text": [
      "[0, 4, 16]\n"
     ]
    }
   ],
   "source": [
    "nums = [0, 1, 2, 3, 4]\n",
    "even_squares = [x ** 2 for x in nums if x % 2 == 0]\n",
    "print(even_squares)"
   ]
  },
  {
   "cell_type": "markdown",
   "metadata": {
    "editable": false
   },
   "source": [
    "## Funzioni\n",
    "La dichiarazione di una funzione inizia con la *keyword* **def**. Questa è seguita dal nome della funzione, dalla lista dei parametri attesi racchiusi tra parentesi e infine dal carattere '**:**'."
   ]
  },
  {
   "cell_type": "code",
   "execution_count": 22,
   "metadata": {},
   "outputs": [
    {
     "name": "stdout",
     "output_type": "stream",
     "text": [
      "negative\n",
      "zero\n",
      "positive\n"
     ]
    }
   ],
   "source": [
    "def sign(x):\n",
    "    if x > 0:\n",
    "        return 'positive'\n",
    "    elif x < 0:\n",
    "        return 'negative'\n",
    "    else:\n",
    "        return 'zero'\n",
    "\n",
    "for x in [-1, 0, 1]:\n",
    "    print(sign(x))"
   ]
  },
  {
   "cell_type": "markdown",
   "metadata": {
    "editable": false
   },
   "source": [
    "Inoltre è possibile richiamare le funzioni passando i valori dei parametri esplicitando il loro nome.\n",
    "Infine alcuni argomenti possono essere dichiarati come opzionali definendone un valore di *default*. "
   ]
  },
  {
   "cell_type": "code",
   "execution_count": 18,
   "metadata": {},
   "outputs": [
    {
     "name": "stdout",
     "output_type": "stream",
     "text": [
      "Hello, Bob\n",
      "HELLO, FRED!\n",
      "HELLO, JACK!\n"
     ]
    }
   ],
   "source": [
    "def hello(name, loud=False):\n",
    "    if loud:\n",
    "        print('HELLO, %s!' % name.upper())\n",
    "    else:\n",
    "        print('Hello, %s' % name)\n",
    "\n",
    "hello('Bob')\n",
    "hello('Fred', True)\n",
    "hello(loud=True,name='Jack')"
   ]
  },
  {
   "cell_type": "markdown",
   "metadata": {
    "editable": false
   },
   "source": [
    "Le funzioni possono restituire valori di ritorno multipli:"
   ]
  },
  {
   "cell_type": "code",
   "execution_count": null,
   "metadata": {},
   "outputs": [],
   "source": [
    "def compute_square_area_perimeter(squareSideLength):\n",
    "    area = squareSideLength**2\n",
    "    perimeter = squareSideLength*4\n",
    "    return area, perimeter\n",
    "\n",
    "area, perimeter = compute_square_area_perimeter(7)\n",
    "print('Area: ', area)\n",
    "print('Perimetro: ', perimeter)"
   ]
  },
  {
   "cell_type": "markdown",
   "metadata": {
    "editable": false,
    "homework": true
   },
   "source": [
    "È possibile ignorare selettivamente alcuni dei risultati utilizzando il simbolo '**_**':"
   ]
  },
  {
   "cell_type": "code",
   "execution_count": 30,
   "metadata": {
    "homework": true,
    "scrolled": true
   },
   "outputs": [
    {
     "name": "stdout",
     "output_type": "stream",
     "text": [
      "a c\n",
      "2\n"
     ]
    }
   ],
   "source": [
    "def multiple_outputs3():\n",
    "    return 'a', 'b', 'c'\n",
    "\n",
    "result1, _, result3 = multiple_outputs3()\n",
    "\n",
    "print(result1, result3)\n",
    "\n",
    "# Più in generale\n",
    "my_tuple = 1, 2, 3\n",
    "__, result2, __ = my_tuple\n",
    "\n",
    "print(result2)"
   ]
  },
  {
   "cell_type": "code",
   "execution_count": 31,
   "metadata": {},
   "outputs": [
    {
     "name": "stdout",
     "output_type": "stream",
     "text": [
      "3\n"
     ]
    }
   ],
   "source": [
    "print(__)"
   ]
  },
  {
   "cell_type": "markdown",
   "metadata": {
    "editable": false,
    "homework": true
   },
   "source": [
    "È anche possibile costruire funzioni che accettano un numero variabile di argomenti ma che allo stesso tempo permettono di avere parametri con nome. In questo caso nella dichiarazione della funzione viene fatto uso di **\\*args** e **\\*\\*kwargs**. Nella stessa dichiarazione è possibile utilizzare entrambi o anche uno solo di questi.\n",
    "\n",
    "**\\*args** indica che la funzione accetta un numero potenzialmente infinito di parametri senza nome. La funzione utilizza questo parametro come una tupla.\n",
    "\n",
    "**\\*\\*kwargs** indica che la funzione accetta un numero potenzialmente infinito di parametri con nome. La funzione utilizza questo parametro come un dizionario."
   ]
  },
  {
   "cell_type": "code",
   "execution_count": 19,
   "metadata": {
    "homework": true
   },
   "outputs": [
    {
     "name": "stdout",
     "output_type": "stream",
     "text": [
      "Tipo di args: <class 'tuple'>\n",
      "[args] Il valore all'indice 0 è a\n",
      "[args] Il valore all'indice 1 è b\n",
      "[args] Il valore all'indice 2 è c\n",
      "[args] Il valore all'indice 3 è d\n",
      "Tipo di kwargs: <class 'dict'>\n",
      "[kwargs] Il valore associato alla chiave arbitrary_parameter_name è 5\n",
      "[kwargs] Il valore associato alla chiave arbitrary_parameter_name2 è 7\n"
     ]
    }
   ],
   "source": [
    "def print_arguments(*args, **kwargs):\n",
    "    print('Tipo di args:', type(args))\n",
    "    for idx, value in enumerate(args):\n",
    "        print('[args] Il valore all\\'indice {} è {}'.format(idx, value))\n",
    "        \n",
    "    print('Tipo di kwargs:', type(kwargs))\n",
    "    for key, value in kwargs.items():\n",
    "        print('[kwargs] Il valore associato alla chiave {} è {}'.format(key, value))\n",
    "\n",
    "print_arguments('a', 'b', 'c', 'd', arbitrary_parameter_name=5, arbitrary_parameter_name2=7)\n",
    "#print_arguments() # Anche questo è corretto: args e kwargs saranno vuoti"
   ]
  },
  {
   "cell_type": "markdown",
   "metadata": {},
   "source": [
    "### Esercizio 2\n",
    "Scrivere una funzione che dati in input:\n",
    "- un intero *N*;\n",
    "- un booleano *int*, di default pari a True;\n",
    "- un intero *n* di default pari a 2.\n",
    "\n",
    "Restituisca:\n",
    "- una lista contenente *N* valori generati in modo randomico in base a quanto specificato in *int* - interi se uguale a True e float viceversa;\n",
    "- una lista contenente tutti i valori della lista precedente elevati di *n*.\n",
    "\n",
    "#### Suggerimento\n",
    "Per la creazione di dati randomici potete fare riferimento alla documentazione della libreria [random](https://docs.python.org/3/library/random.html)"
   ]
  },
  {
   "cell_type": "code",
   "execution_count": 3,
   "metadata": {},
   "outputs": [
    {
     "name": "stdout",
     "output_type": "stream",
     "text": [
      "([2, 7, 6], [4, 49, 36])\n"
     ]
    }
   ],
   "source": [
    "#Scrivi qui la soluzione \n",
    "import random\n",
    "def f(N, intero=True, n=2):\n",
    "    if intero:\n",
    "        x = []\n",
    "        for _ in range(N):\n",
    "            x = x + [random.randint(0,10)]\n",
    "    else:\n",
    "        x = []\n",
    "        for _ in range(N):\n",
    "            x = x + [random.uniform(0,10)]\n",
    "    x2 = []\n",
    "    for e in x:\n",
    "        x2 = x2 + [e ** 2]\n",
    "    return x,x2\n",
    "\n",
    "print(f(3))\n",
    "    \n"
   ]
  },
  {
   "cell_type": "code",
   "execution_count": null,
   "metadata": {},
   "outputs": [],
   "source": []
  }
 ],
 "metadata": {
  "anaconda-cloud": {},
  "celltoolbar": "Edit Metadata",
  "kernelspec": {
   "display_name": "Python 3 (ipykernel)",
   "language": "python",
   "name": "python3"
  },
  "language_info": {
   "codemirror_mode": {
    "name": "ipython",
    "version": 3
   },
   "file_extension": ".py",
   "mimetype": "text/x-python",
   "name": "python",
   "nbconvert_exporter": "python",
   "pygments_lexer": "ipython3",
   "version": "3.10.4"
  }
 },
 "nbformat": 4,
 "nbformat_minor": 4
}
