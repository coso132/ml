{
 "cells": [
  {
   "cell_type": "markdown",
   "metadata": {},
   "source": [
    "# Contenuti\n",
    "- [Pandas](#Pandas)\n",
    "    - [Pandas e Numpy](#Pandas-e-Numpy)\n",
    "    - [Esercizio 1](#Esercizio-1)\n",
    "- [Matplotlib](#Matplotlib)\n",
    "    - [Plot](#Plot)\n",
    "        - [Caratteristiche e ulteriori funzionalità](#Caratteristiche-e-ulteriori-funzionalità)\n",
    "        - [Opzioni grafiche](#Opzioni-grafiche)\n",
    "    - [Istogrammi](#Istogrammi)\n",
    "    - [Esercizio 2](#Esercizio-2)\n",
    "    - [Scatter plot](#Scatter-plot)\n",
    "    - [Subplot](#Subplot)\n",
    "    - [Esercizio 3](#Esercizio-3)"
   ]
  },
  {
   "cell_type": "markdown",
   "metadata": {},
   "source": [
    "# Pandas"
   ]
  },
  {
   "cell_type": "markdown",
   "metadata": {},
   "source": [
    "Un altro strumento che Python mette a disposizione per l'analisi dei dati è [Pandas](https://pandas.pydata.org/), che fornisce strutture di dati veloci e flessibili, soprattutto per l'analisi dei dati in tempo reale. Pandas riusa librerie esistenti che abbiamo già visto come Numpy. Prima di tutto importiamo *pandas* che, per convenzione, viene importato con il nome *pd*.\n"
   ]
  },
  {
   "cell_type": "code",
   "execution_count": 1,
   "metadata": {},
   "outputs": [],
   "source": [
    "import pandas as pd"
   ]
  },
  {
   "cell_type": "markdown",
   "metadata": {},
   "source": [
    "Pandas permette di importare in modo rapido i file in formato CSV, molto comuni per il Machine Learning. Potete scaricare entrambi i dataset che useremo in questa esercitazione da Microsfot Teams. Si tratta dei file **Columbus_Ed_astro_pi_datalog.csv** e **meteo.csv**. Il primo dataset che utilizzeremo è **Columbus_Ed_astro_pi_datalog.csv** contiene una collezione di dati registrati da una scheda elettronica RaspberryPi presente sulla Stazione Spaziale Internazionale, scaricati da qui:\n",
    "\n",
    "[https://projects.raspberrypi.org/en/projects/astro-pi-flight-data-analysis](https://projects.raspberrypi.org/en/projects/astro-pi-flight-data-analysis)\n",
    "\n",
    "Nel sito è possibile trovare la descrizione dettagliata dei dati raccolti dai sensori, nel mese di febbraio 2016 (un record ogni 10 secondi)."
   ]
  },
  {
   "cell_type": "markdown",
   "metadata": {},
   "source": [
    "**Importiamo il file**\n",
    "\n",
    "Il metodo ```read_csv``` di Pandas importa i dati da un file CSV e li memorizza in una struttura DataFrame. Tale metodo accetta differenti parametri opzionali. L'unico obbligarorio e il path del file da leggere (se il file si trova sulla stessa directory del notebook è sufficiente il nome del file). Si consiglia anche di specificare il tipo di encoding (tipicamente 'UTF-8') per evitare errori di lettura."
   ]
  },
  {
   "cell_type": "code",
   "execution_count": 2,
   "metadata": {},
   "outputs": [
    {
     "name": "stdout",
     "output_type": "stream",
     "text": [
      "<class 'pandas.core.frame.DataFrame'>\n",
      "RangeIndex: 110869 entries, 0 to 110868\n",
      "Data columns (total 20 columns):\n",
      " #   Column      Non-Null Count   Dtype  \n",
      "---  ------      --------------   -----  \n",
      " 0   ROW_ID      110869 non-null  int64  \n",
      " 1   temp_cpu    110869 non-null  float64\n",
      " 2   temp_h      110869 non-null  float64\n",
      " 3   temp_p      110869 non-null  float64\n",
      " 4   humidity    110869 non-null  float64\n",
      " 5   pressure    110869 non-null  float64\n",
      " 6   pitch       110869 non-null  float64\n",
      " 7   roll        110869 non-null  float64\n",
      " 8   yaw         110869 non-null  float64\n",
      " 9   mag_x       110869 non-null  float64\n",
      " 10  mag_y       110869 non-null  float64\n",
      " 11  mag_z       110869 non-null  float64\n",
      " 12  accel_x     110869 non-null  float64\n",
      " 13  accel_y     110869 non-null  float64\n",
      " 14  accel_z     110869 non-null  float64\n",
      " 15  gyro_x      110869 non-null  float64\n",
      " 16  gyro_y      110869 non-null  float64\n",
      " 17  gyro_z      110869 non-null  float64\n",
      " 18  reset       110869 non-null  int64  \n",
      " 19  time_stamp  110869 non-null  object \n",
      "dtypes: float64(17), int64(2), object(1)\n",
      "memory usage: 16.9+ MB\n"
     ]
    }
   ],
   "source": [
    "import pandas as pd   # importiamo pandas \n",
    "import numpy as np    # importiamo numpy\n",
    "\n",
    "# ricordatevi l'encoding !\n",
    "df = pd.read_csv('Columbus_Ed_astro_pi_datalog.csv', encoding='UTF-8') \n",
    "# consente di estrarre le informazioni primarie dal dataframe\n",
    "df.info()"
   ]
  },
  {
   "cell_type": "markdown",
   "metadata": {},
   "source": [
    "Possiamo vedere rapidamente righe e colonne del dataframe con l'attributo `shape`."
   ]
  },
  {
   "cell_type": "code",
   "execution_count": 3,
   "metadata": {},
   "outputs": [
    {
     "data": {
      "text/plain": [
       "(110869, 20)"
      ]
     },
     "execution_count": 3,
     "metadata": {},
     "output_type": "execute_result"
    }
   ],
   "source": [
    "df.shape"
   ]
  },
  {
   "cell_type": "markdown",
   "metadata": {},
   "source": [
    "Il metodo `head()` permette di visualizzare le prime righe del dataset, mentre il metodo tail() permette di visualizzare le ultime righe:"
   ]
  },
  {
   "cell_type": "code",
   "execution_count": 4,
   "metadata": {
    "scrolled": true
   },
   "outputs": [
    {
     "data": {
      "text/html": [
       "<div>\n",
       "<style scoped>\n",
       "    .dataframe tbody tr th:only-of-type {\n",
       "        vertical-align: middle;\n",
       "    }\n",
       "\n",
       "    .dataframe tbody tr th {\n",
       "        vertical-align: top;\n",
       "    }\n",
       "\n",
       "    .dataframe thead th {\n",
       "        text-align: right;\n",
       "    }\n",
       "</style>\n",
       "<table border=\"1\" class=\"dataframe\">\n",
       "  <thead>\n",
       "    <tr style=\"text-align: right;\">\n",
       "      <th></th>\n",
       "      <th>ROW_ID</th>\n",
       "      <th>temp_cpu</th>\n",
       "      <th>temp_h</th>\n",
       "      <th>temp_p</th>\n",
       "      <th>humidity</th>\n",
       "      <th>pressure</th>\n",
       "      <th>pitch</th>\n",
       "      <th>roll</th>\n",
       "      <th>yaw</th>\n",
       "      <th>mag_x</th>\n",
       "      <th>mag_y</th>\n",
       "      <th>mag_z</th>\n",
       "      <th>accel_x</th>\n",
       "      <th>accel_y</th>\n",
       "      <th>accel_z</th>\n",
       "      <th>gyro_x</th>\n",
       "      <th>gyro_y</th>\n",
       "      <th>gyro_z</th>\n",
       "      <th>reset</th>\n",
       "      <th>time_stamp</th>\n",
       "    </tr>\n",
       "  </thead>\n",
       "  <tbody>\n",
       "    <tr>\n",
       "      <th>0</th>\n",
       "      <td>1</td>\n",
       "      <td>31.88</td>\n",
       "      <td>27.57</td>\n",
       "      <td>25.01</td>\n",
       "      <td>44.94</td>\n",
       "      <td>1001.68</td>\n",
       "      <td>1.49</td>\n",
       "      <td>52.25</td>\n",
       "      <td>185.21</td>\n",
       "      <td>-46.422753</td>\n",
       "      <td>-8.132907</td>\n",
       "      <td>-12.129346</td>\n",
       "      <td>-0.000468</td>\n",
       "      <td>0.019439</td>\n",
       "      <td>0.014569</td>\n",
       "      <td>0.000942</td>\n",
       "      <td>0.000492</td>\n",
       "      <td>-0.000750</td>\n",
       "      <td>20</td>\n",
       "      <td>2016-02-16 10:44:40</td>\n",
       "    </tr>\n",
       "    <tr>\n",
       "      <th>1</th>\n",
       "      <td>2</td>\n",
       "      <td>31.79</td>\n",
       "      <td>27.53</td>\n",
       "      <td>25.01</td>\n",
       "      <td>45.12</td>\n",
       "      <td>1001.72</td>\n",
       "      <td>1.03</td>\n",
       "      <td>53.73</td>\n",
       "      <td>186.72</td>\n",
       "      <td>-48.778951</td>\n",
       "      <td>-8.304243</td>\n",
       "      <td>-12.943096</td>\n",
       "      <td>-0.000614</td>\n",
       "      <td>0.019436</td>\n",
       "      <td>0.014577</td>\n",
       "      <td>0.000218</td>\n",
       "      <td>-0.000005</td>\n",
       "      <td>-0.000235</td>\n",
       "      <td>0</td>\n",
       "      <td>2016-02-16 10:44:50</td>\n",
       "    </tr>\n",
       "    <tr>\n",
       "      <th>2</th>\n",
       "      <td>3</td>\n",
       "      <td>31.66</td>\n",
       "      <td>27.53</td>\n",
       "      <td>25.01</td>\n",
       "      <td>45.12</td>\n",
       "      <td>1001.72</td>\n",
       "      <td>1.24</td>\n",
       "      <td>53.57</td>\n",
       "      <td>186.21</td>\n",
       "      <td>-49.161878</td>\n",
       "      <td>-8.470832</td>\n",
       "      <td>-12.642772</td>\n",
       "      <td>-0.000569</td>\n",
       "      <td>0.019359</td>\n",
       "      <td>0.014357</td>\n",
       "      <td>0.000395</td>\n",
       "      <td>0.000600</td>\n",
       "      <td>-0.000003</td>\n",
       "      <td>0</td>\n",
       "      <td>2016-02-16 10:45:00</td>\n",
       "    </tr>\n",
       "    <tr>\n",
       "      <th>3</th>\n",
       "      <td>4</td>\n",
       "      <td>31.69</td>\n",
       "      <td>27.52</td>\n",
       "      <td>25.01</td>\n",
       "      <td>45.32</td>\n",
       "      <td>1001.69</td>\n",
       "      <td>1.57</td>\n",
       "      <td>53.63</td>\n",
       "      <td>186.03</td>\n",
       "      <td>-49.341941</td>\n",
       "      <td>-8.457380</td>\n",
       "      <td>-12.615509</td>\n",
       "      <td>-0.000575</td>\n",
       "      <td>0.019383</td>\n",
       "      <td>0.014409</td>\n",
       "      <td>0.000308</td>\n",
       "      <td>0.000577</td>\n",
       "      <td>-0.000102</td>\n",
       "      <td>0</td>\n",
       "      <td>2016-02-16 10:45:10</td>\n",
       "    </tr>\n",
       "    <tr>\n",
       "      <th>4</th>\n",
       "      <td>5</td>\n",
       "      <td>31.66</td>\n",
       "      <td>27.54</td>\n",
       "      <td>25.01</td>\n",
       "      <td>45.18</td>\n",
       "      <td>1001.71</td>\n",
       "      <td>0.85</td>\n",
       "      <td>53.66</td>\n",
       "      <td>186.46</td>\n",
       "      <td>-50.056683</td>\n",
       "      <td>-8.122609</td>\n",
       "      <td>-12.678341</td>\n",
       "      <td>-0.000548</td>\n",
       "      <td>0.019378</td>\n",
       "      <td>0.014380</td>\n",
       "      <td>0.000321</td>\n",
       "      <td>0.000691</td>\n",
       "      <td>0.000272</td>\n",
       "      <td>0</td>\n",
       "      <td>2016-02-16 10:45:20</td>\n",
       "    </tr>\n",
       "  </tbody>\n",
       "</table>\n",
       "</div>"
      ],
      "text/plain": [
       "   ROW_ID  temp_cpu  temp_h  temp_p  humidity  pressure  pitch   roll     yaw  \\\n",
       "0       1     31.88   27.57   25.01     44.94   1001.68   1.49  52.25  185.21   \n",
       "1       2     31.79   27.53   25.01     45.12   1001.72   1.03  53.73  186.72   \n",
       "2       3     31.66   27.53   25.01     45.12   1001.72   1.24  53.57  186.21   \n",
       "3       4     31.69   27.52   25.01     45.32   1001.69   1.57  53.63  186.03   \n",
       "4       5     31.66   27.54   25.01     45.18   1001.71   0.85  53.66  186.46   \n",
       "\n",
       "       mag_x     mag_y      mag_z   accel_x   accel_y   accel_z    gyro_x  \\\n",
       "0 -46.422753 -8.132907 -12.129346 -0.000468  0.019439  0.014569  0.000942   \n",
       "1 -48.778951 -8.304243 -12.943096 -0.000614  0.019436  0.014577  0.000218   \n",
       "2 -49.161878 -8.470832 -12.642772 -0.000569  0.019359  0.014357  0.000395   \n",
       "3 -49.341941 -8.457380 -12.615509 -0.000575  0.019383  0.014409  0.000308   \n",
       "4 -50.056683 -8.122609 -12.678341 -0.000548  0.019378  0.014380  0.000321   \n",
       "\n",
       "     gyro_y    gyro_z  reset           time_stamp  \n",
       "0  0.000492 -0.000750     20  2016-02-16 10:44:40  \n",
       "1 -0.000005 -0.000235      0  2016-02-16 10:44:50  \n",
       "2  0.000600 -0.000003      0  2016-02-16 10:45:00  \n",
       "3  0.000577 -0.000102      0  2016-02-16 10:45:10  \n",
       "4  0.000691  0.000272      0  2016-02-16 10:45:20  "
      ]
     },
     "execution_count": 4,
     "metadata": {},
     "output_type": "execute_result"
    }
   ],
   "source": [
    "df.head()"
   ]
  },
  {
   "cell_type": "code",
   "execution_count": 5,
   "metadata": {},
   "outputs": [
    {
     "data": {
      "text/html": [
       "<div>\n",
       "<style scoped>\n",
       "    .dataframe tbody tr th:only-of-type {\n",
       "        vertical-align: middle;\n",
       "    }\n",
       "\n",
       "    .dataframe tbody tr th {\n",
       "        vertical-align: top;\n",
       "    }\n",
       "\n",
       "    .dataframe thead th {\n",
       "        text-align: right;\n",
       "    }\n",
       "</style>\n",
       "<table border=\"1\" class=\"dataframe\">\n",
       "  <thead>\n",
       "    <tr style=\"text-align: right;\">\n",
       "      <th></th>\n",
       "      <th>ROW_ID</th>\n",
       "      <th>temp_cpu</th>\n",
       "      <th>temp_h</th>\n",
       "      <th>temp_p</th>\n",
       "      <th>humidity</th>\n",
       "      <th>pressure</th>\n",
       "      <th>pitch</th>\n",
       "      <th>roll</th>\n",
       "      <th>yaw</th>\n",
       "      <th>mag_x</th>\n",
       "      <th>mag_y</th>\n",
       "      <th>mag_z</th>\n",
       "      <th>accel_x</th>\n",
       "      <th>accel_y</th>\n",
       "      <th>accel_z</th>\n",
       "      <th>gyro_x</th>\n",
       "      <th>gyro_y</th>\n",
       "      <th>gyro_z</th>\n",
       "      <th>reset</th>\n",
       "      <th>time_stamp</th>\n",
       "    </tr>\n",
       "  </thead>\n",
       "  <tbody>\n",
       "    <tr>\n",
       "      <th>110864</th>\n",
       "      <td>110865</td>\n",
       "      <td>31.56</td>\n",
       "      <td>27.52</td>\n",
       "      <td>24.83</td>\n",
       "      <td>42.94</td>\n",
       "      <td>1005.83</td>\n",
       "      <td>1.58</td>\n",
       "      <td>49.93</td>\n",
       "      <td>129.60</td>\n",
       "      <td>-15.169673</td>\n",
       "      <td>-27.642610</td>\n",
       "      <td>1.563183</td>\n",
       "      <td>-0.000682</td>\n",
       "      <td>0.017743</td>\n",
       "      <td>0.014646</td>\n",
       "      <td>-0.000264</td>\n",
       "      <td>0.000206</td>\n",
       "      <td>0.000196</td>\n",
       "      <td>0</td>\n",
       "      <td>2016-02-29 09:24:21</td>\n",
       "    </tr>\n",
       "    <tr>\n",
       "      <th>110865</th>\n",
       "      <td>110866</td>\n",
       "      <td>31.55</td>\n",
       "      <td>27.50</td>\n",
       "      <td>24.83</td>\n",
       "      <td>42.72</td>\n",
       "      <td>1005.85</td>\n",
       "      <td>1.89</td>\n",
       "      <td>49.92</td>\n",
       "      <td>130.51</td>\n",
       "      <td>-15.832622</td>\n",
       "      <td>-27.729389</td>\n",
       "      <td>1.785682</td>\n",
       "      <td>-0.000736</td>\n",
       "      <td>0.017570</td>\n",
       "      <td>0.014855</td>\n",
       "      <td>0.000143</td>\n",
       "      <td>0.000199</td>\n",
       "      <td>-0.000024</td>\n",
       "      <td>0</td>\n",
       "      <td>2016-02-29 09:24:30</td>\n",
       "    </tr>\n",
       "    <tr>\n",
       "      <th>110866</th>\n",
       "      <td>110867</td>\n",
       "      <td>31.58</td>\n",
       "      <td>27.50</td>\n",
       "      <td>24.83</td>\n",
       "      <td>42.83</td>\n",
       "      <td>1005.85</td>\n",
       "      <td>2.09</td>\n",
       "      <td>50.00</td>\n",
       "      <td>132.04</td>\n",
       "      <td>-16.646212</td>\n",
       "      <td>-27.719479</td>\n",
       "      <td>1.629533</td>\n",
       "      <td>-0.000647</td>\n",
       "      <td>0.017657</td>\n",
       "      <td>0.014799</td>\n",
       "      <td>0.000537</td>\n",
       "      <td>0.000257</td>\n",
       "      <td>0.000057</td>\n",
       "      <td>0</td>\n",
       "      <td>2016-02-29 09:24:41</td>\n",
       "    </tr>\n",
       "    <tr>\n",
       "      <th>110867</th>\n",
       "      <td>110868</td>\n",
       "      <td>31.62</td>\n",
       "      <td>27.50</td>\n",
       "      <td>24.83</td>\n",
       "      <td>42.81</td>\n",
       "      <td>1005.88</td>\n",
       "      <td>2.88</td>\n",
       "      <td>49.69</td>\n",
       "      <td>133.00</td>\n",
       "      <td>-17.270447</td>\n",
       "      <td>-27.793136</td>\n",
       "      <td>1.703806</td>\n",
       "      <td>-0.000835</td>\n",
       "      <td>0.017635</td>\n",
       "      <td>0.014877</td>\n",
       "      <td>0.000534</td>\n",
       "      <td>0.000456</td>\n",
       "      <td>0.000195</td>\n",
       "      <td>0</td>\n",
       "      <td>2016-02-29 09:24:50</td>\n",
       "    </tr>\n",
       "    <tr>\n",
       "      <th>110868</th>\n",
       "      <td>110869</td>\n",
       "      <td>31.57</td>\n",
       "      <td>27.51</td>\n",
       "      <td>24.83</td>\n",
       "      <td>42.94</td>\n",
       "      <td>1005.86</td>\n",
       "      <td>2.17</td>\n",
       "      <td>49.77</td>\n",
       "      <td>134.18</td>\n",
       "      <td>-17.885872</td>\n",
       "      <td>-27.824149</td>\n",
       "      <td>1.293345</td>\n",
       "      <td>-0.000787</td>\n",
       "      <td>0.017261</td>\n",
       "      <td>0.014380</td>\n",
       "      <td>0.000459</td>\n",
       "      <td>0.000076</td>\n",
       "      <td>0.000030</td>\n",
       "      <td>0</td>\n",
       "      <td>2016-02-29 09:25:00</td>\n",
       "    </tr>\n",
       "  </tbody>\n",
       "</table>\n",
       "</div>"
      ],
      "text/plain": [
       "        ROW_ID  temp_cpu  temp_h  temp_p  humidity  pressure  pitch   roll  \\\n",
       "110864  110865     31.56   27.52   24.83     42.94   1005.83   1.58  49.93   \n",
       "110865  110866     31.55   27.50   24.83     42.72   1005.85   1.89  49.92   \n",
       "110866  110867     31.58   27.50   24.83     42.83   1005.85   2.09  50.00   \n",
       "110867  110868     31.62   27.50   24.83     42.81   1005.88   2.88  49.69   \n",
       "110868  110869     31.57   27.51   24.83     42.94   1005.86   2.17  49.77   \n",
       "\n",
       "           yaw      mag_x      mag_y     mag_z   accel_x   accel_y   accel_z  \\\n",
       "110864  129.60 -15.169673 -27.642610  1.563183 -0.000682  0.017743  0.014646   \n",
       "110865  130.51 -15.832622 -27.729389  1.785682 -0.000736  0.017570  0.014855   \n",
       "110866  132.04 -16.646212 -27.719479  1.629533 -0.000647  0.017657  0.014799   \n",
       "110867  133.00 -17.270447 -27.793136  1.703806 -0.000835  0.017635  0.014877   \n",
       "110868  134.18 -17.885872 -27.824149  1.293345 -0.000787  0.017261  0.014380   \n",
       "\n",
       "          gyro_x    gyro_y    gyro_z  reset           time_stamp  \n",
       "110864 -0.000264  0.000206  0.000196      0  2016-02-29 09:24:21  \n",
       "110865  0.000143  0.000199 -0.000024      0  2016-02-29 09:24:30  \n",
       "110866  0.000537  0.000257  0.000057      0  2016-02-29 09:24:41  \n",
       "110867  0.000534  0.000456  0.000195      0  2016-02-29 09:24:50  \n",
       "110868  0.000459  0.000076  0.000030      0  2016-02-29 09:25:00  "
      ]
     },
     "execution_count": 5,
     "metadata": {},
     "output_type": "execute_result"
    }
   ],
   "source": [
    "df.tail()"
   ]
  },
  {
   "cell_type": "markdown",
   "metadata": {},
   "source": [
    "Il metodo `describe` permette di estrarre in maniere rapida numerose statistiche utili per l'analsisi dei dati:\n",
    "\n",
    "* il conteggio delle righe\n",
    "* la media\n",
    "* la deviazione standard\n",
    "* i quartili\n",
    "* minimo e massimo"
   ]
  },
  {
   "cell_type": "code",
   "execution_count": 6,
   "metadata": {},
   "outputs": [
    {
     "data": {
      "text/html": [
       "<div>\n",
       "<style scoped>\n",
       "    .dataframe tbody tr th:only-of-type {\n",
       "        vertical-align: middle;\n",
       "    }\n",
       "\n",
       "    .dataframe tbody tr th {\n",
       "        vertical-align: top;\n",
       "    }\n",
       "\n",
       "    .dataframe thead th {\n",
       "        text-align: right;\n",
       "    }\n",
       "</style>\n",
       "<table border=\"1\" class=\"dataframe\">\n",
       "  <thead>\n",
       "    <tr style=\"text-align: right;\">\n",
       "      <th></th>\n",
       "      <th>ROW_ID</th>\n",
       "      <th>temp_cpu</th>\n",
       "      <th>temp_h</th>\n",
       "      <th>temp_p</th>\n",
       "      <th>humidity</th>\n",
       "      <th>pressure</th>\n",
       "      <th>pitch</th>\n",
       "      <th>roll</th>\n",
       "      <th>yaw</th>\n",
       "      <th>mag_x</th>\n",
       "      <th>mag_y</th>\n",
       "      <th>mag_z</th>\n",
       "      <th>accel_x</th>\n",
       "      <th>accel_y</th>\n",
       "      <th>accel_z</th>\n",
       "      <th>gyro_x</th>\n",
       "      <th>gyro_y</th>\n",
       "      <th>gyro_z</th>\n",
       "      <th>reset</th>\n",
       "    </tr>\n",
       "  </thead>\n",
       "  <tbody>\n",
       "    <tr>\n",
       "      <th>count</th>\n",
       "      <td>110869.000000</td>\n",
       "      <td>110869.000000</td>\n",
       "      <td>110869.000000</td>\n",
       "      <td>110869.000000</td>\n",
       "      <td>110869.000000</td>\n",
       "      <td>110869.000000</td>\n",
       "      <td>110869.000000</td>\n",
       "      <td>110869.000000</td>\n",
       "      <td>110869.00000</td>\n",
       "      <td>110869.000000</td>\n",
       "      <td>110869.000000</td>\n",
       "      <td>110869.000000</td>\n",
       "      <td>110869.000000</td>\n",
       "      <td>110869.000000</td>\n",
       "      <td>110869.000000</td>\n",
       "      <td>1.108690e+05</td>\n",
       "      <td>110869.000000</td>\n",
       "      <td>1.108690e+05</td>\n",
       "      <td>110869.000000</td>\n",
       "    </tr>\n",
       "    <tr>\n",
       "      <th>mean</th>\n",
       "      <td>55435.000000</td>\n",
       "      <td>32.236259</td>\n",
       "      <td>28.101773</td>\n",
       "      <td>25.543272</td>\n",
       "      <td>46.252005</td>\n",
       "      <td>1008.126788</td>\n",
       "      <td>2.770553</td>\n",
       "      <td>51.807973</td>\n",
       "      <td>200.90126</td>\n",
       "      <td>-19.465265</td>\n",
       "      <td>-1.174493</td>\n",
       "      <td>-6.004529</td>\n",
       "      <td>-0.000630</td>\n",
       "      <td>0.018504</td>\n",
       "      <td>0.014512</td>\n",
       "      <td>-8.959493e-07</td>\n",
       "      <td>0.000007</td>\n",
       "      <td>-9.671594e-07</td>\n",
       "      <td>0.000180</td>\n",
       "    </tr>\n",
       "    <tr>\n",
       "      <th>std</th>\n",
       "      <td>32005.267835</td>\n",
       "      <td>0.360289</td>\n",
       "      <td>0.369256</td>\n",
       "      <td>0.380877</td>\n",
       "      <td>1.907273</td>\n",
       "      <td>3.093485</td>\n",
       "      <td>21.848940</td>\n",
       "      <td>2.085821</td>\n",
       "      <td>84.47763</td>\n",
       "      <td>28.120202</td>\n",
       "      <td>15.655121</td>\n",
       "      <td>8.552481</td>\n",
       "      <td>0.000224</td>\n",
       "      <td>0.000604</td>\n",
       "      <td>0.000312</td>\n",
       "      <td>2.807614e-03</td>\n",
       "      <td>0.002456</td>\n",
       "      <td>2.133104e-03</td>\n",
       "      <td>0.060065</td>\n",
       "    </tr>\n",
       "    <tr>\n",
       "      <th>min</th>\n",
       "      <td>1.000000</td>\n",
       "      <td>31.410000</td>\n",
       "      <td>27.200000</td>\n",
       "      <td>24.530000</td>\n",
       "      <td>42.270000</td>\n",
       "      <td>1001.560000</td>\n",
       "      <td>0.000000</td>\n",
       "      <td>30.890000</td>\n",
       "      <td>0.01000</td>\n",
       "      <td>-73.046240</td>\n",
       "      <td>-43.810030</td>\n",
       "      <td>-41.163040</td>\n",
       "      <td>-0.025034</td>\n",
       "      <td>-0.005903</td>\n",
       "      <td>-0.022900</td>\n",
       "      <td>-3.037930e-01</td>\n",
       "      <td>-0.378412</td>\n",
       "      <td>-2.970800e-01</td>\n",
       "      <td>0.000000</td>\n",
       "    </tr>\n",
       "    <tr>\n",
       "      <th>25%</th>\n",
       "      <td>27718.000000</td>\n",
       "      <td>31.960000</td>\n",
       "      <td>27.840000</td>\n",
       "      <td>25.260000</td>\n",
       "      <td>45.230000</td>\n",
       "      <td>1006.090000</td>\n",
       "      <td>1.140000</td>\n",
       "      <td>51.180000</td>\n",
       "      <td>162.43000</td>\n",
       "      <td>-41.742792</td>\n",
       "      <td>-12.982321</td>\n",
       "      <td>-11.238430</td>\n",
       "      <td>-0.000697</td>\n",
       "      <td>0.018009</td>\n",
       "      <td>0.014349</td>\n",
       "      <td>-2.750000e-04</td>\n",
       "      <td>-0.000278</td>\n",
       "      <td>-1.200000e-04</td>\n",
       "      <td>0.000000</td>\n",
       "    </tr>\n",
       "    <tr>\n",
       "      <th>50%</th>\n",
       "      <td>55435.000000</td>\n",
       "      <td>32.280000</td>\n",
       "      <td>28.110000</td>\n",
       "      <td>25.570000</td>\n",
       "      <td>46.130000</td>\n",
       "      <td>1007.650000</td>\n",
       "      <td>1.450000</td>\n",
       "      <td>51.950000</td>\n",
       "      <td>190.58000</td>\n",
       "      <td>-21.339485</td>\n",
       "      <td>-1.350467</td>\n",
       "      <td>-5.764400</td>\n",
       "      <td>-0.000631</td>\n",
       "      <td>0.018620</td>\n",
       "      <td>0.014510</td>\n",
       "      <td>-3.000000e-06</td>\n",
       "      <td>-0.000004</td>\n",
       "      <td>-1.000000e-06</td>\n",
       "      <td>0.000000</td>\n",
       "    </tr>\n",
       "    <tr>\n",
       "      <th>75%</th>\n",
       "      <td>83152.000000</td>\n",
       "      <td>32.480000</td>\n",
       "      <td>28.360000</td>\n",
       "      <td>25.790000</td>\n",
       "      <td>46.880000</td>\n",
       "      <td>1010.270000</td>\n",
       "      <td>1.740000</td>\n",
       "      <td>52.450000</td>\n",
       "      <td>256.34000</td>\n",
       "      <td>7.299000</td>\n",
       "      <td>11.912456</td>\n",
       "      <td>-0.653705</td>\n",
       "      <td>-0.000567</td>\n",
       "      <td>0.018940</td>\n",
       "      <td>0.014673</td>\n",
       "      <td>2.710000e-04</td>\n",
       "      <td>0.000271</td>\n",
       "      <td>1.190000e-04</td>\n",
       "      <td>0.000000</td>\n",
       "    </tr>\n",
       "    <tr>\n",
       "      <th>max</th>\n",
       "      <td>110869.000000</td>\n",
       "      <td>33.700000</td>\n",
       "      <td>29.280000</td>\n",
       "      <td>26.810000</td>\n",
       "      <td>60.590000</td>\n",
       "      <td>1021.780000</td>\n",
       "      <td>360.000000</td>\n",
       "      <td>359.400000</td>\n",
       "      <td>359.98000</td>\n",
       "      <td>33.134748</td>\n",
       "      <td>37.552135</td>\n",
       "      <td>31.003047</td>\n",
       "      <td>0.018708</td>\n",
       "      <td>0.041012</td>\n",
       "      <td>0.029938</td>\n",
       "      <td>2.151470e-01</td>\n",
       "      <td>0.389499</td>\n",
       "      <td>2.698760e-01</td>\n",
       "      <td>20.000000</td>\n",
       "    </tr>\n",
       "  </tbody>\n",
       "</table>\n",
       "</div>"
      ],
      "text/plain": [
       "              ROW_ID       temp_cpu         temp_h         temp_p  \\\n",
       "count  110869.000000  110869.000000  110869.000000  110869.000000   \n",
       "mean    55435.000000      32.236259      28.101773      25.543272   \n",
       "std     32005.267835       0.360289       0.369256       0.380877   \n",
       "min         1.000000      31.410000      27.200000      24.530000   \n",
       "25%     27718.000000      31.960000      27.840000      25.260000   \n",
       "50%     55435.000000      32.280000      28.110000      25.570000   \n",
       "75%     83152.000000      32.480000      28.360000      25.790000   \n",
       "max    110869.000000      33.700000      29.280000      26.810000   \n",
       "\n",
       "            humidity       pressure          pitch           roll  \\\n",
       "count  110869.000000  110869.000000  110869.000000  110869.000000   \n",
       "mean       46.252005    1008.126788       2.770553      51.807973   \n",
       "std         1.907273       3.093485      21.848940       2.085821   \n",
       "min        42.270000    1001.560000       0.000000      30.890000   \n",
       "25%        45.230000    1006.090000       1.140000      51.180000   \n",
       "50%        46.130000    1007.650000       1.450000      51.950000   \n",
       "75%        46.880000    1010.270000       1.740000      52.450000   \n",
       "max        60.590000    1021.780000     360.000000     359.400000   \n",
       "\n",
       "                yaw          mag_x          mag_y          mag_z  \\\n",
       "count  110869.00000  110869.000000  110869.000000  110869.000000   \n",
       "mean      200.90126     -19.465265      -1.174493      -6.004529   \n",
       "std        84.47763      28.120202      15.655121       8.552481   \n",
       "min         0.01000     -73.046240     -43.810030     -41.163040   \n",
       "25%       162.43000     -41.742792     -12.982321     -11.238430   \n",
       "50%       190.58000     -21.339485      -1.350467      -5.764400   \n",
       "75%       256.34000       7.299000      11.912456      -0.653705   \n",
       "max       359.98000      33.134748      37.552135      31.003047   \n",
       "\n",
       "             accel_x        accel_y        accel_z        gyro_x  \\\n",
       "count  110869.000000  110869.000000  110869.000000  1.108690e+05   \n",
       "mean       -0.000630       0.018504       0.014512 -8.959493e-07   \n",
       "std         0.000224       0.000604       0.000312  2.807614e-03   \n",
       "min        -0.025034      -0.005903      -0.022900 -3.037930e-01   \n",
       "25%        -0.000697       0.018009       0.014349 -2.750000e-04   \n",
       "50%        -0.000631       0.018620       0.014510 -3.000000e-06   \n",
       "75%        -0.000567       0.018940       0.014673  2.710000e-04   \n",
       "max         0.018708       0.041012       0.029938  2.151470e-01   \n",
       "\n",
       "              gyro_y        gyro_z          reset  \n",
       "count  110869.000000  1.108690e+05  110869.000000  \n",
       "mean        0.000007 -9.671594e-07       0.000180  \n",
       "std         0.002456  2.133104e-03       0.060065  \n",
       "min        -0.378412 -2.970800e-01       0.000000  \n",
       "25%        -0.000278 -1.200000e-04       0.000000  \n",
       "50%        -0.000004 -1.000000e-06       0.000000  \n",
       "75%         0.000271  1.190000e-04       0.000000  \n",
       "max         0.389499  2.698760e-01      20.000000  "
      ]
     },
     "execution_count": 6,
     "metadata": {},
     "output_type": "execute_result"
    }
   ],
   "source": [
    "df.describe()"
   ]
  },
  {
   "cell_type": "markdown",
   "metadata": {},
   "source": [
    "E' possibile indicizzare una singola colonna del dataframe, ad esempio per limitare `describe` ad una sola colonna come `humidity`, puoi scrivere così:"
   ]
  },
  {
   "cell_type": "code",
   "execution_count": 7,
   "metadata": {},
   "outputs": [
    {
     "data": {
      "text/plain": [
       "count    110869.000000\n",
       "mean         46.252005\n",
       "std           1.907273\n",
       "min          42.270000\n",
       "25%          45.230000\n",
       "50%          46.130000\n",
       "75%          46.880000\n",
       "max          60.590000\n",
       "Name: humidity, dtype: float64"
      ]
     },
     "execution_count": 7,
     "metadata": {},
     "output_type": "execute_result"
    }
   ],
   "source": [
    "df['humidity'].describe()"
   ]
  },
  {
   "cell_type": "markdown",
   "metadata": {},
   "source": [
    "Possiamo anche indicizzare i singoli record del dataframe tramite numeri di riga. Per ottenere la i-esima serie si utilizza il metodo `iloc[i]`."
   ]
  },
  {
   "cell_type": "code",
   "execution_count": 8,
   "metadata": {
    "scrolled": true
   },
   "outputs": [
    {
     "data": {
      "text/plain": [
       "ROW_ID                          7\n",
       "temp_cpu                    31.68\n",
       "temp_h                      27.53\n",
       "temp_p                      25.01\n",
       "humidity                    45.31\n",
       "pressure                   1001.7\n",
       "pitch                        0.63\n",
       "roll                        53.55\n",
       "yaw                         186.1\n",
       "mag_x                  -50.447346\n",
       "mag_y                   -7.937309\n",
       "mag_z                  -12.188574\n",
       "accel_x                  -0.00051\n",
       "accel_y                  0.019264\n",
       "accel_z                  0.014528\n",
       "gyro_x                  -0.000111\n",
       "gyro_y                    0.00032\n",
       "gyro_z                   0.000222\n",
       "reset                           0\n",
       "time_stamp    2016-02-16 10:45:41\n",
       "Name: 6, dtype: object"
      ]
     },
     "execution_count": 8,
     "metadata": {},
     "output_type": "execute_result"
    }
   ],
   "source": [
    "df.iloc[6]"
   ]
  },
  {
   "cell_type": "markdown",
   "metadata": {},
   "source": [
    "&Egrave; possibile selezionare un dataframe di posizioni contigue, utilizzando lo _slicing_, come abbiamo già fatto per [stringhe](https://it.softpython.org/strings/strings2-sol.html#Slice) e [liste](https://it.softpython.org/lists/lists2-sol.html#Slice).\n",
    "\n",
    "Qua per esempio selezioniamo le righe dalla 5 _inclusa_ alla 7 _esclusa_ :"
   ]
  },
  {
   "cell_type": "code",
   "execution_count": 9,
   "metadata": {
    "scrolled": true
   },
   "outputs": [
    {
     "data": {
      "text/html": [
       "<div>\n",
       "<style scoped>\n",
       "    .dataframe tbody tr th:only-of-type {\n",
       "        vertical-align: middle;\n",
       "    }\n",
       "\n",
       "    .dataframe tbody tr th {\n",
       "        vertical-align: top;\n",
       "    }\n",
       "\n",
       "    .dataframe thead th {\n",
       "        text-align: right;\n",
       "    }\n",
       "</style>\n",
       "<table border=\"1\" class=\"dataframe\">\n",
       "  <thead>\n",
       "    <tr style=\"text-align: right;\">\n",
       "      <th></th>\n",
       "      <th>ROW_ID</th>\n",
       "      <th>temp_cpu</th>\n",
       "      <th>temp_h</th>\n",
       "      <th>temp_p</th>\n",
       "      <th>humidity</th>\n",
       "      <th>pressure</th>\n",
       "      <th>pitch</th>\n",
       "      <th>roll</th>\n",
       "      <th>yaw</th>\n",
       "      <th>mag_x</th>\n",
       "      <th>mag_y</th>\n",
       "      <th>mag_z</th>\n",
       "      <th>accel_x</th>\n",
       "      <th>accel_y</th>\n",
       "      <th>accel_z</th>\n",
       "      <th>gyro_x</th>\n",
       "      <th>gyro_y</th>\n",
       "      <th>gyro_z</th>\n",
       "      <th>reset</th>\n",
       "      <th>time_stamp</th>\n",
       "    </tr>\n",
       "  </thead>\n",
       "  <tbody>\n",
       "    <tr>\n",
       "      <th>5</th>\n",
       "      <td>6</td>\n",
       "      <td>31.69</td>\n",
       "      <td>27.55</td>\n",
       "      <td>25.01</td>\n",
       "      <td>45.12</td>\n",
       "      <td>1001.67</td>\n",
       "      <td>0.85</td>\n",
       "      <td>53.53</td>\n",
       "      <td>185.52</td>\n",
       "      <td>-50.246476</td>\n",
       "      <td>-8.343209</td>\n",
       "      <td>-11.938124</td>\n",
       "      <td>-0.000536</td>\n",
       "      <td>0.019453</td>\n",
       "      <td>0.014380</td>\n",
       "      <td>0.000273</td>\n",
       "      <td>0.000494</td>\n",
       "      <td>-0.000059</td>\n",
       "      <td>0</td>\n",
       "      <td>2016-02-16 10:45:30</td>\n",
       "    </tr>\n",
       "    <tr>\n",
       "      <th>6</th>\n",
       "      <td>7</td>\n",
       "      <td>31.68</td>\n",
       "      <td>27.53</td>\n",
       "      <td>25.01</td>\n",
       "      <td>45.31</td>\n",
       "      <td>1001.70</td>\n",
       "      <td>0.63</td>\n",
       "      <td>53.55</td>\n",
       "      <td>186.10</td>\n",
       "      <td>-50.447346</td>\n",
       "      <td>-7.937309</td>\n",
       "      <td>-12.188574</td>\n",
       "      <td>-0.000510</td>\n",
       "      <td>0.019264</td>\n",
       "      <td>0.014528</td>\n",
       "      <td>-0.000111</td>\n",
       "      <td>0.000320</td>\n",
       "      <td>0.000222</td>\n",
       "      <td>0</td>\n",
       "      <td>2016-02-16 10:45:41</td>\n",
       "    </tr>\n",
       "  </tbody>\n",
       "</table>\n",
       "</div>"
      ],
      "text/plain": [
       "   ROW_ID  temp_cpu  temp_h  temp_p  humidity  pressure  pitch   roll     yaw  \\\n",
       "5       6     31.69   27.55   25.01     45.12   1001.67   0.85  53.53  185.52   \n",
       "6       7     31.68   27.53   25.01     45.31   1001.70   0.63  53.55  186.10   \n",
       "\n",
       "       mag_x     mag_y      mag_z   accel_x   accel_y   accel_z    gyro_x  \\\n",
       "5 -50.246476 -8.343209 -11.938124 -0.000536  0.019453  0.014380  0.000273   \n",
       "6 -50.447346 -7.937309 -12.188574 -0.000510  0.019264  0.014528 -0.000111   \n",
       "\n",
       "     gyro_y    gyro_z  reset           time_stamp  \n",
       "5  0.000494 -0.000059      0  2016-02-16 10:45:30  \n",
       "6  0.000320  0.000222      0  2016-02-16 10:45:41  "
      ]
     },
     "execution_count": 9,
     "metadata": {},
     "output_type": "execute_result"
    }
   ],
   "source": [
    "df.iloc[5:7]"
   ]
  },
  {
   "cell_type": "markdown",
   "metadata": {},
   "source": [
    "La proprietà `colums` restituisce le intestazioni di colonna:"
   ]
  },
  {
   "cell_type": "code",
   "execution_count": 10,
   "metadata": {},
   "outputs": [
    {
     "data": {
      "text/plain": [
       "Index(['ROW_ID', 'temp_cpu', 'temp_h', 'temp_p', 'humidity', 'pressure',\n",
       "       'pitch', 'roll', 'yaw', 'mag_x', 'mag_y', 'mag_z', 'accel_x', 'accel_y',\n",
       "       'accel_z', 'gyro_x', 'gyro_y', 'gyro_z', 'reset', 'time_stamp'],\n",
       "      dtype='object')"
      ]
     },
     "execution_count": 10,
     "metadata": {},
     "output_type": "execute_result"
    }
   ],
   "source": [
    "df.columns"
   ]
  },
  {
   "cell_type": "markdown",
   "metadata": {},
   "source": [
    "**Nota**: Come si vede qua sopra, il tipo dell'oggetto restituito non è una lista, ma un contenitore speciale definito da pandas:"
   ]
  },
  {
   "cell_type": "code",
   "execution_count": 11,
   "metadata": {},
   "outputs": [
    {
     "data": {
      "text/plain": [
       "pandas.core.indexes.base.Index"
      ]
     },
     "execution_count": 11,
     "metadata": {},
     "output_type": "execute_result"
    }
   ],
   "source": [
    "type(df.columns)"
   ]
  },
  {
   "cell_type": "markdown",
   "metadata": {},
   "source": [
    "Ciononostante, possiamo accedere agli elementi di questo contenitore usando indici dentro le parentesi quadre:"
   ]
  },
  {
   "cell_type": "code",
   "execution_count": 12,
   "metadata": {},
   "outputs": [
    {
     "data": {
      "text/plain": [
       "'ROW_ID'"
      ]
     },
     "execution_count": 12,
     "metadata": {},
     "output_type": "execute_result"
    }
   ],
   "source": [
    "df.columns[0]"
   ]
  },
  {
   "cell_type": "code",
   "execution_count": 13,
   "metadata": {},
   "outputs": [
    {
     "data": {
      "text/plain": [
       "'temp_cpu'"
      ]
     },
     "execution_count": 13,
     "metadata": {},
     "output_type": "execute_result"
    }
   ],
   "source": [
    "df.columns[1]"
   ]
  },
  {
   "cell_type": "markdown",
   "metadata": {},
   "source": [
    "Il metodo `corr` permette di calcolare la correlazione tra le colonne del DataFrame, con valori da -1.0 a +1.0:"
   ]
  },
  {
   "cell_type": "code",
   "execution_count": 14,
   "metadata": {},
   "outputs": [
    {
     "data": {
      "text/html": [
       "<div>\n",
       "<style scoped>\n",
       "    .dataframe tbody tr th:only-of-type {\n",
       "        vertical-align: middle;\n",
       "    }\n",
       "\n",
       "    .dataframe tbody tr th {\n",
       "        vertical-align: top;\n",
       "    }\n",
       "\n",
       "    .dataframe thead th {\n",
       "        text-align: right;\n",
       "    }\n",
       "</style>\n",
       "<table border=\"1\" class=\"dataframe\">\n",
       "  <thead>\n",
       "    <tr style=\"text-align: right;\">\n",
       "      <th></th>\n",
       "      <th>ROW_ID</th>\n",
       "      <th>temp_cpu</th>\n",
       "      <th>temp_h</th>\n",
       "      <th>temp_p</th>\n",
       "      <th>humidity</th>\n",
       "      <th>pressure</th>\n",
       "      <th>pitch</th>\n",
       "      <th>roll</th>\n",
       "      <th>yaw</th>\n",
       "    </tr>\n",
       "  </thead>\n",
       "  <tbody>\n",
       "    <tr>\n",
       "      <th>ROW_ID</th>\n",
       "      <td>1.000000</td>\n",
       "      <td>0.361391</td>\n",
       "      <td>0.435289</td>\n",
       "      <td>0.339916</td>\n",
       "      <td>-0.110241</td>\n",
       "      <td>0.243337</td>\n",
       "      <td>-0.007741</td>\n",
       "      <td>-0.390159</td>\n",
       "      <td>-0.034877</td>\n",
       "    </tr>\n",
       "    <tr>\n",
       "      <th>temp_cpu</th>\n",
       "      <td>0.361391</td>\n",
       "      <td>1.000000</td>\n",
       "      <td>0.986872</td>\n",
       "      <td>0.991672</td>\n",
       "      <td>-0.297081</td>\n",
       "      <td>0.038065</td>\n",
       "      <td>0.008076</td>\n",
       "      <td>-0.171644</td>\n",
       "      <td>-0.117972</td>\n",
       "    </tr>\n",
       "    <tr>\n",
       "      <th>temp_h</th>\n",
       "      <td>0.435289</td>\n",
       "      <td>0.986872</td>\n",
       "      <td>1.000000</td>\n",
       "      <td>0.993260</td>\n",
       "      <td>-0.281422</td>\n",
       "      <td>0.070882</td>\n",
       "      <td>0.005145</td>\n",
       "      <td>-0.199628</td>\n",
       "      <td>-0.117870</td>\n",
       "    </tr>\n",
       "    <tr>\n",
       "      <th>temp_p</th>\n",
       "      <td>0.339916</td>\n",
       "      <td>0.991672</td>\n",
       "      <td>0.993260</td>\n",
       "      <td>1.000000</td>\n",
       "      <td>-0.288373</td>\n",
       "      <td>0.035496</td>\n",
       "      <td>0.006750</td>\n",
       "      <td>-0.163685</td>\n",
       "      <td>-0.118463</td>\n",
       "    </tr>\n",
       "    <tr>\n",
       "      <th>humidity</th>\n",
       "      <td>-0.110241</td>\n",
       "      <td>-0.297081</td>\n",
       "      <td>-0.281422</td>\n",
       "      <td>-0.288373</td>\n",
       "      <td>1.000000</td>\n",
       "      <td>0.434374</td>\n",
       "      <td>0.004050</td>\n",
       "      <td>0.101304</td>\n",
       "      <td>0.031664</td>\n",
       "    </tr>\n",
       "    <tr>\n",
       "      <th>pressure</th>\n",
       "      <td>0.243337</td>\n",
       "      <td>0.038065</td>\n",
       "      <td>0.070882</td>\n",
       "      <td>0.035496</td>\n",
       "      <td>0.434374</td>\n",
       "      <td>1.000000</td>\n",
       "      <td>0.003018</td>\n",
       "      <td>0.011815</td>\n",
       "      <td>-0.051697</td>\n",
       "    </tr>\n",
       "    <tr>\n",
       "      <th>pitch</th>\n",
       "      <td>-0.007741</td>\n",
       "      <td>0.008076</td>\n",
       "      <td>0.005145</td>\n",
       "      <td>0.006750</td>\n",
       "      <td>0.004050</td>\n",
       "      <td>0.003018</td>\n",
       "      <td>1.000000</td>\n",
       "      <td>0.087941</td>\n",
       "      <td>-0.011611</td>\n",
       "    </tr>\n",
       "    <tr>\n",
       "      <th>roll</th>\n",
       "      <td>-0.390159</td>\n",
       "      <td>-0.171644</td>\n",
       "      <td>-0.199628</td>\n",
       "      <td>-0.163685</td>\n",
       "      <td>0.101304</td>\n",
       "      <td>0.011815</td>\n",
       "      <td>0.087941</td>\n",
       "      <td>1.000000</td>\n",
       "      <td>0.095354</td>\n",
       "    </tr>\n",
       "    <tr>\n",
       "      <th>yaw</th>\n",
       "      <td>-0.034877</td>\n",
       "      <td>-0.117972</td>\n",
       "      <td>-0.117870</td>\n",
       "      <td>-0.118463</td>\n",
       "      <td>0.031664</td>\n",
       "      <td>-0.051697</td>\n",
       "      <td>-0.011611</td>\n",
       "      <td>0.095354</td>\n",
       "      <td>1.000000</td>\n",
       "    </tr>\n",
       "  </tbody>\n",
       "</table>\n",
       "</div>"
      ],
      "text/plain": [
       "            ROW_ID  temp_cpu    temp_h    temp_p  humidity  pressure  \\\n",
       "ROW_ID    1.000000  0.361391  0.435289  0.339916 -0.110241  0.243337   \n",
       "temp_cpu  0.361391  1.000000  0.986872  0.991672 -0.297081  0.038065   \n",
       "temp_h    0.435289  0.986872  1.000000  0.993260 -0.281422  0.070882   \n",
       "temp_p    0.339916  0.991672  0.993260  1.000000 -0.288373  0.035496   \n",
       "humidity -0.110241 -0.297081 -0.281422 -0.288373  1.000000  0.434374   \n",
       "pressure  0.243337  0.038065  0.070882  0.035496  0.434374  1.000000   \n",
       "pitch    -0.007741  0.008076  0.005145  0.006750  0.004050  0.003018   \n",
       "roll     -0.390159 -0.171644 -0.199628 -0.163685  0.101304  0.011815   \n",
       "yaw      -0.034877 -0.117972 -0.117870 -0.118463  0.031664 -0.051697   \n",
       "\n",
       "             pitch      roll       yaw  \n",
       "ROW_ID   -0.007741 -0.390159 -0.034877  \n",
       "temp_cpu  0.008076 -0.171644 -0.117972  \n",
       "temp_h    0.005145 -0.199628 -0.117870  \n",
       "temp_p    0.006750 -0.163685 -0.118463  \n",
       "humidity  0.004050  0.101304  0.031664  \n",
       "pressure  0.003018  0.011815 -0.051697  \n",
       "pitch     1.000000  0.087941 -0.011611  \n",
       "roll      0.087941  1.000000  0.095354  \n",
       "yaw      -0.011611  0.095354  1.000000  "
      ]
     },
     "execution_count": 14,
     "metadata": {},
     "output_type": "execute_result"
    }
   ],
   "source": [
    "#seleziono una porzione del dataframe per ridurre la dimensione della matrice di correlazion\n",
    "df2 = df[['ROW_ID', 'temp_cpu', 'temp_h', 'temp_p', 'humidity', 'pressure',\n",
    "       'pitch', 'roll', 'yaw']]\n",
    "df2.corr()"
   ]
  },
  {
   "cell_type": "code",
   "execution_count": 15,
   "metadata": {},
   "outputs": [
    {
     "data": {
      "text/html": [
       "<style type=\"text/css\">\n",
       "#T_d2ff9_row0_col0, #T_d2ff9_row1_col1, #T_d2ff9_row2_col2, #T_d2ff9_row3_col3, #T_d2ff9_row4_col4, #T_d2ff9_row5_col5, #T_d2ff9_row6_col6, #T_d2ff9_row7_col7, #T_d2ff9_row8_col8 {\n",
       "  background-color: #b40426;\n",
       "  color: #f1f1f1;\n",
       "}\n",
       "#T_d2ff9_row0_col1 {\n",
       "  background-color: #dedcdb;\n",
       "  color: #000000;\n",
       "}\n",
       "#T_d2ff9_row0_col2 {\n",
       "  background-color: #ebd3c6;\n",
       "  color: #000000;\n",
       "}\n",
       "#T_d2ff9_row0_col3 {\n",
       "  background-color: #d9dce1;\n",
       "  color: #000000;\n",
       "}\n",
       "#T_d2ff9_row0_col4 {\n",
       "  background-color: #6788ee;\n",
       "  color: #f1f1f1;\n",
       "}\n",
       "#T_d2ff9_row0_col5 {\n",
       "  background-color: #97b8ff;\n",
       "  color: #000000;\n",
       "}\n",
       "#T_d2ff9_row0_col6, #T_d2ff9_row0_col7, #T_d2ff9_row1_col4, #T_d2ff9_row1_col8, #T_d2ff9_row2_col8, #T_d2ff9_row3_col8, #T_d2ff9_row4_col1, #T_d2ff9_row4_col2, #T_d2ff9_row4_col3, #T_d2ff9_row7_col0, #T_d2ff9_row8_col5, #T_d2ff9_row8_col6 {\n",
       "  background-color: #3b4cc0;\n",
       "  color: #f1f1f1;\n",
       "}\n",
       "#T_d2ff9_row0_col8 {\n",
       "  background-color: #516ddb;\n",
       "  color: #f1f1f1;\n",
       "}\n",
       "#T_d2ff9_row1_col0 {\n",
       "  background-color: #e7d7ce;\n",
       "  color: #000000;\n",
       "}\n",
       "#T_d2ff9_row1_col2, #T_d2ff9_row2_col1 {\n",
       "  background-color: #b70d28;\n",
       "  color: #f1f1f1;\n",
       "}\n",
       "#T_d2ff9_row1_col3, #T_d2ff9_row2_col3, #T_d2ff9_row3_col1, #T_d2ff9_row3_col2 {\n",
       "  background-color: #b50927;\n",
       "  color: #f1f1f1;\n",
       "}\n",
       "#T_d2ff9_row1_col5, #T_d2ff9_row3_col5 {\n",
       "  background-color: #5470de;\n",
       "  color: #f1f1f1;\n",
       "}\n",
       "#T_d2ff9_row1_col6, #T_d2ff9_row2_col6, #T_d2ff9_row3_col6 {\n",
       "  background-color: #3f53c6;\n",
       "  color: #f1f1f1;\n",
       "}\n",
       "#T_d2ff9_row1_col7 {\n",
       "  background-color: #6c8ff1;\n",
       "  color: #f1f1f1;\n",
       "}\n",
       "#T_d2ff9_row2_col0 {\n",
       "  background-color: #f1ccb8;\n",
       "  color: #000000;\n",
       "}\n",
       "#T_d2ff9_row2_col4, #T_d2ff9_row4_col6, #T_d2ff9_row5_col6 {\n",
       "  background-color: #3e51c5;\n",
       "  color: #f1f1f1;\n",
       "}\n",
       "#T_d2ff9_row2_col5 {\n",
       "  background-color: #5e7de7;\n",
       "  color: #f1f1f1;\n",
       "}\n",
       "#T_d2ff9_row2_col7, #T_d2ff9_row8_col1 {\n",
       "  background-color: #6687ed;\n",
       "  color: #f1f1f1;\n",
       "}\n",
       "#T_d2ff9_row3_col0 {\n",
       "  background-color: #e3d9d3;\n",
       "  color: #000000;\n",
       "}\n",
       "#T_d2ff9_row3_col4 {\n",
       "  background-color: #3c4ec2;\n",
       "  color: #f1f1f1;\n",
       "}\n",
       "#T_d2ff9_row3_col7 {\n",
       "  background-color: #6e90f2;\n",
       "  color: #f1f1f1;\n",
       "}\n",
       "#T_d2ff9_row4_col0 {\n",
       "  background-color: #7b9ff9;\n",
       "  color: #f1f1f1;\n",
       "}\n",
       "#T_d2ff9_row4_col5 {\n",
       "  background-color: #d3dbe7;\n",
       "  color: #000000;\n",
       "}\n",
       "#T_d2ff9_row4_col7 {\n",
       "  background-color: #b1cbfc;\n",
       "  color: #000000;\n",
       "}\n",
       "#T_d2ff9_row4_col8 {\n",
       "  background-color: #6485ec;\n",
       "  color: #f1f1f1;\n",
       "}\n",
       "#T_d2ff9_row5_col0 {\n",
       "  background-color: #d1dae9;\n",
       "  color: #000000;\n",
       "}\n",
       "#T_d2ff9_row5_col1 {\n",
       "  background-color: #90b2fe;\n",
       "  color: #000000;\n",
       "}\n",
       "#T_d2ff9_row5_col2, #T_d2ff9_row6_col0 {\n",
       "  background-color: #96b7ff;\n",
       "  color: #000000;\n",
       "}\n",
       "#T_d2ff9_row5_col3, #T_d2ff9_row8_col4 {\n",
       "  background-color: #8db0fe;\n",
       "  color: #000000;\n",
       "}\n",
       "#T_d2ff9_row5_col4 {\n",
       "  background-color: #ecd3c5;\n",
       "  color: #000000;\n",
       "}\n",
       "#T_d2ff9_row5_col7 {\n",
       "  background-color: #9bbcff;\n",
       "  color: #000000;\n",
       "}\n",
       "#T_d2ff9_row5_col8, #T_d2ff9_row7_col5 {\n",
       "  background-color: #4c66d6;\n",
       "  color: #f1f1f1;\n",
       "}\n",
       "#T_d2ff9_row6_col1 {\n",
       "  background-color: #88abfd;\n",
       "  color: #000000;\n",
       "}\n",
       "#T_d2ff9_row6_col2 {\n",
       "  background-color: #84a7fc;\n",
       "  color: #f1f1f1;\n",
       "}\n",
       "#T_d2ff9_row6_col3 {\n",
       "  background-color: #85a8fc;\n",
       "  color: #f1f1f1;\n",
       "}\n",
       "#T_d2ff9_row6_col4 {\n",
       "  background-color: #86a9fc;\n",
       "  color: #f1f1f1;\n",
       "}\n",
       "#T_d2ff9_row6_col5 {\n",
       "  background-color: #4a63d3;\n",
       "  color: #f1f1f1;\n",
       "}\n",
       "#T_d2ff9_row6_col7 {\n",
       "  background-color: #aec9fc;\n",
       "  color: #000000;\n",
       "}\n",
       "#T_d2ff9_row6_col8, #T_d2ff9_row7_col1, #T_d2ff9_row7_col3 {\n",
       "  background-color: #5875e1;\n",
       "  color: #f1f1f1;\n",
       "}\n",
       "#T_d2ff9_row7_col2 {\n",
       "  background-color: #4e68d8;\n",
       "  color: #f1f1f1;\n",
       "}\n",
       "#T_d2ff9_row7_col4 {\n",
       "  background-color: #a1c0ff;\n",
       "  color: #000000;\n",
       "}\n",
       "#T_d2ff9_row7_col6 {\n",
       "  background-color: #5977e3;\n",
       "  color: #f1f1f1;\n",
       "}\n",
       "#T_d2ff9_row7_col8 {\n",
       "  background-color: #779af7;\n",
       "  color: #f1f1f1;\n",
       "}\n",
       "#T_d2ff9_row8_col0 {\n",
       "  background-color: #8fb1fe;\n",
       "  color: #000000;\n",
       "}\n",
       "#T_d2ff9_row8_col2 {\n",
       "  background-color: #6282ea;\n",
       "  color: #f1f1f1;\n",
       "}\n",
       "#T_d2ff9_row8_col3 {\n",
       "  background-color: #6384eb;\n",
       "  color: #f1f1f1;\n",
       "}\n",
       "#T_d2ff9_row8_col7 {\n",
       "  background-color: #afcafc;\n",
       "  color: #000000;\n",
       "}\n",
       "</style>\n",
       "<table id=\"T_d2ff9\">\n",
       "  <thead>\n",
       "    <tr>\n",
       "      <th class=\"blank level0\" >&nbsp;</th>\n",
       "      <th id=\"T_d2ff9_level0_col0\" class=\"col_heading level0 col0\" >ROW_ID</th>\n",
       "      <th id=\"T_d2ff9_level0_col1\" class=\"col_heading level0 col1\" >temp_cpu</th>\n",
       "      <th id=\"T_d2ff9_level0_col2\" class=\"col_heading level0 col2\" >temp_h</th>\n",
       "      <th id=\"T_d2ff9_level0_col3\" class=\"col_heading level0 col3\" >temp_p</th>\n",
       "      <th id=\"T_d2ff9_level0_col4\" class=\"col_heading level0 col4\" >humidity</th>\n",
       "      <th id=\"T_d2ff9_level0_col5\" class=\"col_heading level0 col5\" >pressure</th>\n",
       "      <th id=\"T_d2ff9_level0_col6\" class=\"col_heading level0 col6\" >pitch</th>\n",
       "      <th id=\"T_d2ff9_level0_col7\" class=\"col_heading level0 col7\" >roll</th>\n",
       "      <th id=\"T_d2ff9_level0_col8\" class=\"col_heading level0 col8\" >yaw</th>\n",
       "    </tr>\n",
       "  </thead>\n",
       "  <tbody>\n",
       "    <tr>\n",
       "      <th id=\"T_d2ff9_level0_row0\" class=\"row_heading level0 row0\" >ROW_ID</th>\n",
       "      <td id=\"T_d2ff9_row0_col0\" class=\"data row0 col0\" >1.000000</td>\n",
       "      <td id=\"T_d2ff9_row0_col1\" class=\"data row0 col1\" >0.361391</td>\n",
       "      <td id=\"T_d2ff9_row0_col2\" class=\"data row0 col2\" >0.435289</td>\n",
       "      <td id=\"T_d2ff9_row0_col3\" class=\"data row0 col3\" >0.339916</td>\n",
       "      <td id=\"T_d2ff9_row0_col4\" class=\"data row0 col4\" >-0.110241</td>\n",
       "      <td id=\"T_d2ff9_row0_col5\" class=\"data row0 col5\" >0.243337</td>\n",
       "      <td id=\"T_d2ff9_row0_col6\" class=\"data row0 col6\" >-0.007741</td>\n",
       "      <td id=\"T_d2ff9_row0_col7\" class=\"data row0 col7\" >-0.390159</td>\n",
       "      <td id=\"T_d2ff9_row0_col8\" class=\"data row0 col8\" >-0.034877</td>\n",
       "    </tr>\n",
       "    <tr>\n",
       "      <th id=\"T_d2ff9_level0_row1\" class=\"row_heading level0 row1\" >temp_cpu</th>\n",
       "      <td id=\"T_d2ff9_row1_col0\" class=\"data row1 col0\" >0.361391</td>\n",
       "      <td id=\"T_d2ff9_row1_col1\" class=\"data row1 col1\" >1.000000</td>\n",
       "      <td id=\"T_d2ff9_row1_col2\" class=\"data row1 col2\" >0.986872</td>\n",
       "      <td id=\"T_d2ff9_row1_col3\" class=\"data row1 col3\" >0.991672</td>\n",
       "      <td id=\"T_d2ff9_row1_col4\" class=\"data row1 col4\" >-0.297081</td>\n",
       "      <td id=\"T_d2ff9_row1_col5\" class=\"data row1 col5\" >0.038065</td>\n",
       "      <td id=\"T_d2ff9_row1_col6\" class=\"data row1 col6\" >0.008076</td>\n",
       "      <td id=\"T_d2ff9_row1_col7\" class=\"data row1 col7\" >-0.171644</td>\n",
       "      <td id=\"T_d2ff9_row1_col8\" class=\"data row1 col8\" >-0.117972</td>\n",
       "    </tr>\n",
       "    <tr>\n",
       "      <th id=\"T_d2ff9_level0_row2\" class=\"row_heading level0 row2\" >temp_h</th>\n",
       "      <td id=\"T_d2ff9_row2_col0\" class=\"data row2 col0\" >0.435289</td>\n",
       "      <td id=\"T_d2ff9_row2_col1\" class=\"data row2 col1\" >0.986872</td>\n",
       "      <td id=\"T_d2ff9_row2_col2\" class=\"data row2 col2\" >1.000000</td>\n",
       "      <td id=\"T_d2ff9_row2_col3\" class=\"data row2 col3\" >0.993260</td>\n",
       "      <td id=\"T_d2ff9_row2_col4\" class=\"data row2 col4\" >-0.281422</td>\n",
       "      <td id=\"T_d2ff9_row2_col5\" class=\"data row2 col5\" >0.070882</td>\n",
       "      <td id=\"T_d2ff9_row2_col6\" class=\"data row2 col6\" >0.005145</td>\n",
       "      <td id=\"T_d2ff9_row2_col7\" class=\"data row2 col7\" >-0.199628</td>\n",
       "      <td id=\"T_d2ff9_row2_col8\" class=\"data row2 col8\" >-0.117870</td>\n",
       "    </tr>\n",
       "    <tr>\n",
       "      <th id=\"T_d2ff9_level0_row3\" class=\"row_heading level0 row3\" >temp_p</th>\n",
       "      <td id=\"T_d2ff9_row3_col0\" class=\"data row3 col0\" >0.339916</td>\n",
       "      <td id=\"T_d2ff9_row3_col1\" class=\"data row3 col1\" >0.991672</td>\n",
       "      <td id=\"T_d2ff9_row3_col2\" class=\"data row3 col2\" >0.993260</td>\n",
       "      <td id=\"T_d2ff9_row3_col3\" class=\"data row3 col3\" >1.000000</td>\n",
       "      <td id=\"T_d2ff9_row3_col4\" class=\"data row3 col4\" >-0.288373</td>\n",
       "      <td id=\"T_d2ff9_row3_col5\" class=\"data row3 col5\" >0.035496</td>\n",
       "      <td id=\"T_d2ff9_row3_col6\" class=\"data row3 col6\" >0.006750</td>\n",
       "      <td id=\"T_d2ff9_row3_col7\" class=\"data row3 col7\" >-0.163685</td>\n",
       "      <td id=\"T_d2ff9_row3_col8\" class=\"data row3 col8\" >-0.118463</td>\n",
       "    </tr>\n",
       "    <tr>\n",
       "      <th id=\"T_d2ff9_level0_row4\" class=\"row_heading level0 row4\" >humidity</th>\n",
       "      <td id=\"T_d2ff9_row4_col0\" class=\"data row4 col0\" >-0.110241</td>\n",
       "      <td id=\"T_d2ff9_row4_col1\" class=\"data row4 col1\" >-0.297081</td>\n",
       "      <td id=\"T_d2ff9_row4_col2\" class=\"data row4 col2\" >-0.281422</td>\n",
       "      <td id=\"T_d2ff9_row4_col3\" class=\"data row4 col3\" >-0.288373</td>\n",
       "      <td id=\"T_d2ff9_row4_col4\" class=\"data row4 col4\" >1.000000</td>\n",
       "      <td id=\"T_d2ff9_row4_col5\" class=\"data row4 col5\" >0.434374</td>\n",
       "      <td id=\"T_d2ff9_row4_col6\" class=\"data row4 col6\" >0.004050</td>\n",
       "      <td id=\"T_d2ff9_row4_col7\" class=\"data row4 col7\" >0.101304</td>\n",
       "      <td id=\"T_d2ff9_row4_col8\" class=\"data row4 col8\" >0.031664</td>\n",
       "    </tr>\n",
       "    <tr>\n",
       "      <th id=\"T_d2ff9_level0_row5\" class=\"row_heading level0 row5\" >pressure</th>\n",
       "      <td id=\"T_d2ff9_row5_col0\" class=\"data row5 col0\" >0.243337</td>\n",
       "      <td id=\"T_d2ff9_row5_col1\" class=\"data row5 col1\" >0.038065</td>\n",
       "      <td id=\"T_d2ff9_row5_col2\" class=\"data row5 col2\" >0.070882</td>\n",
       "      <td id=\"T_d2ff9_row5_col3\" class=\"data row5 col3\" >0.035496</td>\n",
       "      <td id=\"T_d2ff9_row5_col4\" class=\"data row5 col4\" >0.434374</td>\n",
       "      <td id=\"T_d2ff9_row5_col5\" class=\"data row5 col5\" >1.000000</td>\n",
       "      <td id=\"T_d2ff9_row5_col6\" class=\"data row5 col6\" >0.003018</td>\n",
       "      <td id=\"T_d2ff9_row5_col7\" class=\"data row5 col7\" >0.011815</td>\n",
       "      <td id=\"T_d2ff9_row5_col8\" class=\"data row5 col8\" >-0.051697</td>\n",
       "    </tr>\n",
       "    <tr>\n",
       "      <th id=\"T_d2ff9_level0_row6\" class=\"row_heading level0 row6\" >pitch</th>\n",
       "      <td id=\"T_d2ff9_row6_col0\" class=\"data row6 col0\" >-0.007741</td>\n",
       "      <td id=\"T_d2ff9_row6_col1\" class=\"data row6 col1\" >0.008076</td>\n",
       "      <td id=\"T_d2ff9_row6_col2\" class=\"data row6 col2\" >0.005145</td>\n",
       "      <td id=\"T_d2ff9_row6_col3\" class=\"data row6 col3\" >0.006750</td>\n",
       "      <td id=\"T_d2ff9_row6_col4\" class=\"data row6 col4\" >0.004050</td>\n",
       "      <td id=\"T_d2ff9_row6_col5\" class=\"data row6 col5\" >0.003018</td>\n",
       "      <td id=\"T_d2ff9_row6_col6\" class=\"data row6 col6\" >1.000000</td>\n",
       "      <td id=\"T_d2ff9_row6_col7\" class=\"data row6 col7\" >0.087941</td>\n",
       "      <td id=\"T_d2ff9_row6_col8\" class=\"data row6 col8\" >-0.011611</td>\n",
       "    </tr>\n",
       "    <tr>\n",
       "      <th id=\"T_d2ff9_level0_row7\" class=\"row_heading level0 row7\" >roll</th>\n",
       "      <td id=\"T_d2ff9_row7_col0\" class=\"data row7 col0\" >-0.390159</td>\n",
       "      <td id=\"T_d2ff9_row7_col1\" class=\"data row7 col1\" >-0.171644</td>\n",
       "      <td id=\"T_d2ff9_row7_col2\" class=\"data row7 col2\" >-0.199628</td>\n",
       "      <td id=\"T_d2ff9_row7_col3\" class=\"data row7 col3\" >-0.163685</td>\n",
       "      <td id=\"T_d2ff9_row7_col4\" class=\"data row7 col4\" >0.101304</td>\n",
       "      <td id=\"T_d2ff9_row7_col5\" class=\"data row7 col5\" >0.011815</td>\n",
       "      <td id=\"T_d2ff9_row7_col6\" class=\"data row7 col6\" >0.087941</td>\n",
       "      <td id=\"T_d2ff9_row7_col7\" class=\"data row7 col7\" >1.000000</td>\n",
       "      <td id=\"T_d2ff9_row7_col8\" class=\"data row7 col8\" >0.095354</td>\n",
       "    </tr>\n",
       "    <tr>\n",
       "      <th id=\"T_d2ff9_level0_row8\" class=\"row_heading level0 row8\" >yaw</th>\n",
       "      <td id=\"T_d2ff9_row8_col0\" class=\"data row8 col0\" >-0.034877</td>\n",
       "      <td id=\"T_d2ff9_row8_col1\" class=\"data row8 col1\" >-0.117972</td>\n",
       "      <td id=\"T_d2ff9_row8_col2\" class=\"data row8 col2\" >-0.117870</td>\n",
       "      <td id=\"T_d2ff9_row8_col3\" class=\"data row8 col3\" >-0.118463</td>\n",
       "      <td id=\"T_d2ff9_row8_col4\" class=\"data row8 col4\" >0.031664</td>\n",
       "      <td id=\"T_d2ff9_row8_col5\" class=\"data row8 col5\" >-0.051697</td>\n",
       "      <td id=\"T_d2ff9_row8_col6\" class=\"data row8 col6\" >-0.011611</td>\n",
       "      <td id=\"T_d2ff9_row8_col7\" class=\"data row8 col7\" >0.095354</td>\n",
       "      <td id=\"T_d2ff9_row8_col8\" class=\"data row8 col8\" >1.000000</td>\n",
       "    </tr>\n",
       "  </tbody>\n",
       "</table>\n"
      ],
      "text/plain": [
       "<pandas.io.formats.style.Styler at 0x7f6c29a30dc0>"
      ]
     },
     "execution_count": 15,
     "metadata": {},
     "output_type": "execute_result"
    }
   ],
   "source": [
    "corr_df = df2.corr()\n",
    "corr_df.style.background_gradient(cmap='coolwarm')"
   ]
  },
  {
   "cell_type": "markdown",
   "metadata": {},
   "source": [
    "# Pandas e Numpy\n",
    "\n",
    "Ovviamente è possibile convertite un dataframe in un numpy array e viceversa. Nel primo caso è sufficiente utilizzare il metodo `to_numpy`  dell'oggetto dataframe. Nel secondo caso invece, dato che le matrici di numpy non sono delle vere e proprie tabelle, per convertirle in dataframe (con **pd.DataFrame**) è necessario specificare un ulteriore parametro relativo alle colonne del dataframe."
   ]
  },
  {
   "cell_type": "code",
   "execution_count": 16,
   "metadata": {},
   "outputs": [
    {
     "name": "stdout",
     "output_type": "stream",
     "text": [
      "   Column_A  Column_B  Column_C\n",
      "0        11        22        33\n",
      "1        44        55        66\n",
      "<class 'pandas.core.frame.DataFrame'>\n",
      "[[11 22 33]\n",
      " [44 55 66]]\n",
      "<class 'numpy.ndarray'>\n"
     ]
    }
   ],
   "source": [
    "import numpy as np\n",
    "import pandas as pd\n",
    "\n",
    "#crea un numpy array bidimensionale\n",
    "my_array = np.array([[11,22,33],[44,55,66]])\n",
    "\n",
    "#converte il numpy array in un dataframe\n",
    "df = pd.DataFrame(my_array, columns = ['Column_A','Column_B','Column_C'])\n",
    "\n",
    "#converte il dataframe in un numpy array \n",
    "my_array2 = df.to_numpy()\n",
    "\n",
    "print(df)\n",
    "print(type(df))\n",
    "\n",
    "print(my_array2)\n",
    "print(type(my_array2))"
   ]
  },
  {
   "cell_type": "markdown",
   "metadata": {},
   "source": [
    "Potete consultare le ulteriori operazioni sui dataframe dalla [documentazione](https://pandas.pydata.org/docs/getting_started/tutorials.html)"
   ]
  },
  {
   "cell_type": "markdown",
   "metadata": {},
   "source": [
    "### Esercizio 1\n",
    "\n",
    "Create un nuovo dataframe ```meteo``` importando i dati dal file [meteo.csv](meteo.csv), che contiene i dati meteo di Trento di novembre 2017 (fonte: https://www.meteotrentino.it). Visualizza le informazioni relative a questo Dataframe per trovare:\n",
    "\n",
    "* i valori di pressione media, minima e massima\n",
    "* la temperatura media\n",
    "* le date delle giornate di pioggia"
   ]
  },
  {
   "cell_type": "code",
   "execution_count": 17,
   "metadata": {},
   "outputs": [
    {
     "name": "stdout",
     "output_type": "stream",
     "text": [
      "<class 'pandas.core.frame.DataFrame'>\n",
      "RangeIndex: 2878 entries, 0 to 2877\n",
      "Data columns (total 4 columns):\n",
      " #   Column     Non-Null Count  Dtype  \n",
      "---  ------     --------------  -----  \n",
      " 0   Data       2878 non-null   object \n",
      " 1   Pressione  2878 non-null   float64\n",
      " 2   Pioggia    2878 non-null   float64\n",
      " 3   Temp       2878 non-null   float64\n",
      "dtypes: float64(3), object(1)\n",
      "memory usage: 90.1+ KB\n",
      "\n",
      "mean    986.340827\n",
      "min     966.300000\n",
      "max     998.300000\n",
      "Name: Pressione, dtype: float64\n",
      "\n",
      "mean    6.410702\n",
      "Name: Temp, dtype: float64\n",
      "\n",
      "470     05/11/2017 21:30\n",
      "471     05/11/2017 21:45\n",
      "1144    12/11/2017 22:15\n",
      "1147    12/11/2017 23:00\n",
      "1148    12/11/2017 23:15\n",
      "1149    12/11/2017 23:30\n",
      "Name: Data, dtype: object\n"
     ]
    }
   ],
   "source": [
    "#Scrivi qui la soluzione\n",
    "dfm = pd.read_csv('meteo.csv', encoding='UTF-8') \n",
    "dfm.info()\n",
    "# consente di estrarre le informazioni primarie dal dataframe\n",
    "print()\n",
    "print(dfm['Pressione'].describe()[['mean','min','max']])\n",
    "print()\n",
    "print(dfm['Temp'].describe()[['mean']])\n",
    "print()\n",
    "dfm_dp = dfm[['Data','Pioggia']]\n",
    "dfm_dp_fil = dfm_dp.query('Pioggia>=1')['Data']\n",
    "print(dfm_dp_fil)"
   ]
  },
  {
   "cell_type": "markdown",
   "metadata": {},
   "source": [
    "# Matplotlib\n",
    "**Matplotlib** è una delle librerie più conosciute per Python per la creazione e la visualizzazione di grafici.\n",
    "\n",
    "Matplotlib mette a disposizione numerosi strumenti. L'obiettivo dell'esercitazione odierna è presentarne le principali caratteristiche. Per approfondire le conoscenze su questa libreria potete fare riferimento alla [relativa documentazione](https://matplotlib.org/api/api_overview.html).\n",
    "\n",
    "In questo caso non importiamo l'intero modulo *matplotlib** ma importiamo **pyplot**, sotto-modulo di **matplotlib**. In questo caso, per convenzione, attribiuamo il nome *plt* al modulo *matplotlib.pyplot*. Tale nome potrà essere utilizzato successivamente tutte le volte che si vorrà fare riferimento al modulo *matplotlib.pyplot*."
   ]
  },
  {
   "cell_type": "code",
   "execution_count": 18,
   "metadata": {},
   "outputs": [],
   "source": [
    "import matplotlib.pyplot as plt\n",
    "\n",
    "#con questo comando speciale per IPython permettiamo di inserire i plot inline\n",
    "%matplotlib inline  "
   ]
  },
  {
   "cell_type": "markdown",
   "metadata": {},
   "source": [
    "## Plot\n",
    "La cella seguente riporta un esempio per la visualizzazione di un semplice grafico utilizzando Matplotlib. Notate come il risultato sia stato visualizzato direttamente nel notebook. La libreria è ovviamente utilizzabile anche al di fuori del notebook: in tal caso verrà creata un'apposita interfaccia grafica."
   ]
  },
  {
   "cell_type": "code",
   "execution_count": 19,
   "metadata": {
    "scrolled": true
   },
   "outputs": [
    {
     "data": {
      "image/png": "[encoded data removed]",
      "text/plain": [
       "<Figure size 640x480 with 1 Axes>"
      ]
     },
     "metadata": {},
     "output_type": "display_data"
    }
   ],
   "source": [
    "x1, y1 = [-1, 12], [1, 4]\n",
    "x2, y2 = [1, 10], [3, 2]\n",
    "plt.plot(x1, y1, x2, y2)\n",
    "plt.show()"
   ]
  },
  {
   "cell_type": "markdown",
   "metadata": {
    "editable": false
   },
   "source": [
    "La funzione **plot(...)** crea un grafico contenente punti e segmenti. Da notare il formato dei parametri: *x1* contiene le ascisse dei punti che formano il primo segmento, *y1* ne contiene le ordinate. Lo stesso vale per il secondo segmento (*x2* e *y2*)."
   ]
  },
  {
   "cell_type": "markdown",
   "metadata": {
    "editable": false
   },
   "source": [
    "## Caratteristiche e ulteriori funzionalità\n",
    "Il modulo appena importato mantiene internamente un riferimento alla vista che stiamo costruendo. Non è quindi necessario memorizzare l'istanza della vista in una variabile. In questa maniera possiamo comunque creare viste articolate o anche più di una in sequenza, come accade nell'esempio seguente:"
   ]
  },
  {
   "cell_type": "code",
   "execution_count": 20,
   "metadata": {},
   "outputs": [
    {
     "data": {
      "image/png": "[encoded data removed]",
      "text/plain": [
       "<Figure size 640x480 with 1 Axes>"
      ]
     },
     "metadata": {},
     "output_type": "display_data"
    },
    {
     "data": {
      "image/png": "[encoded data removed]",
      "text/plain": [
       "<Figure size 640x480 with 1 Axes>"
      ]
     },
     "metadata": {},
     "output_type": "display_data"
    }
   ],
   "source": [
    "# Aggiungiamo segmenti attraverso più chiamate alla funzione plot(...)\n",
    "x1, y1 = [-1, 12], [1, 4]\n",
    "x2, y2 = [1, 10], [3, 2]\n",
    "plt.plot(x1, y1, x2, y2, marker = 'o')\n",
    "\n",
    "x1, y1 = [0, 8], [0, 8]\n",
    "x2, y2 = [0, 8], [8, 0]\n",
    "plt.plot(x1, y1, x2, y2, marker = 'x')\n",
    "plt.show()\n",
    "\n",
    "# Creiamo un nuovo grafico con 4 segmenti, tutti inseriti con un'unica chiamata a plot(...)\n",
    "x1, y1 = [0, 0], [0, 8]\n",
    "x2, y2 = [0, 8], [8, 8]\n",
    "x3, y3 = [8, 8], [8, 0]\n",
    "x4, y4 = [8, 0], [0, 0]\n",
    "plt.plot(x1, y1, x2, y2, x3, y3, x4, y4, marker = 'x')\n",
    "plt.show()"
   ]
  },
  {
   "cell_type": "markdown",
   "metadata": {
    "editable": false
   },
   "source": [
    "Come avete appena visto la funzione **show(...)** si occupa di creare l'immagine finale ripulendo allo stesso tempo lo stato interno mantenuto dal modulo. Chiamate successive permettono di creare ulteriori viste.\n",
    "\n",
    "## Opzioni grafiche\n",
    "\n",
    "Avrete anche notato che plot accetta un numero arbitrario di parametri senza nome. Questo ci permette di aggiungere un numero imprecisato di segmenti in un'unica chiamata.\n",
    "\n",
    "In Matplolib è comune trovare funzioni che accettano un numero potenzialmente infinito di *parametri geometrici* e che lasciano ai *parametri con nome* il compito di curarne la presentazione grafica.\n",
    "\n",
    "Come ad esempio nella cella seguente:"
   ]
  },
  {
   "cell_type": "code",
   "execution_count": 21,
   "metadata": {},
   "outputs": [
    {
     "data": {
      "image/png": "[encoded data removed]",
      "text/plain": [
       "<Figure size 640x480 with 1 Axes>"
      ]
     },
     "metadata": {},
     "output_type": "display_data"
    }
   ],
   "source": [
    "x1, y1 = [0, 0], [0, 8]\n",
    "x2, y2 = [0, 8], [8, 8]\n",
    "x3, y3 = [8, 8], [8, 0]\n",
    "x4, y4 = [8, 0], [0, 0]\n",
    "# Plot(...) mette a disposizione molte opzioni per controllare la grafica degli elementi\n",
    "# In questo esempio usiamo linewidth, color e marker\n",
    "plt.plot(x1, y1, x2, y2, x3, y3, x4, y4, linewidth = 1, color = (0.0, 1.0, 1.0), marker = 'D')\n",
    "plt.show()"
   ]
  },
  {
   "cell_type": "markdown",
   "metadata": {},
   "source": [
    "*xi* e *yi* non hanno dimensioni fisse, il che consente di rappresentare qualsiasi funzione (lineare e non), inoltre con qualche ulteriore funzione è possibile aggiungere label degli assi, titolo e leggenda"
   ]
  },
  {
   "cell_type": "code",
   "execution_count": 22,
   "metadata": {
    "scrolled": true
   },
   "outputs": [
    {
     "data": {
      "text/plain": [
       "<matplotlib.legend.Legend at 0x7f6c27216ec0>"
      ]
     },
     "execution_count": 22,
     "metadata": {},
     "output_type": "execute_result"
    },
    {
     "data": {
      "image/png": "[encoded data removed]",
      "text/plain": [
       "<Figure size 640x480 with 1 Axes>"
      ]
     },
     "metadata": {},
     "output_type": "display_data"
    }
   ],
   "source": [
    "import numpy as np\n",
    "# Compute the x and y coordinates for points on a sine curve\n",
    "x = np.arange(0, 3 * np.pi, 0.1)\n",
    "y_sin = np.sin(x)\n",
    "y_cos = np.cos(x)\n",
    "\n",
    "# Plot the points using matplotlib\n",
    "plt.plot(x, y_sin)\n",
    "plt.plot(x, y_cos)\n",
    "plt.xlabel('x axis label')\n",
    "plt.ylabel('y axis label')\n",
    "plt.title('Sine and Cosine')\n",
    "plt.legend(['Sine', 'Cosine'])"
   ]
  },
  {
   "cell_type": "markdown",
   "metadata": {
    "editable": false
   },
   "source": [
    "## Istogrammi\n",
    "Tramite Matplotlib è possibile costruire una grande varietà di viste. Quello che segue è un esempio di istogramma."
   ]
  },
  {
   "cell_type": "code",
   "execution_count": 23,
   "metadata": {
    "scrolled": true
   },
   "outputs": [
    {
     "data": {
      "image/png": "[encoded data removed]",
      "text/plain": [
       "<Figure size 640x480 with 1 Axes>"
      ]
     },
     "metadata": {},
     "output_type": "display_data"
    }
   ],
   "source": [
    "# La libreria random permette di generare numeri casuali\n",
    "import random\n",
    "        \n",
    "# Genera una lista di 10000 numeri presi da una distribuzione gaussiana\n",
    "mu, sigma = 100, 15\n",
    "x = [random.gauss(mu, sigma) for _ in range(10000)]\n",
    "\n",
    "# La funzione utilizzata per mostrare istogrammi è hist(...)\n",
    "plt.hist(x, bins=50, density=True, facecolor='green')\n",
    "\n",
    "# Modifica di qualche opzione graficab\n",
    "plt.title(r'$\\mathrm{Histogram\\ of\\ IQ:}\\ \\mu=100,\\ \\sigma=15$')\n",
    "plt.axis([40, 160, 0, 0.03])\n",
    "\n",
    "plt.show()"
   ]
  },
  {
   "cell_type": "markdown",
   "metadata": {},
   "source": [
    "Altri dettagli sulla funzione `plot` li trovate nella [documentazione](https://matplotlib.org/3.5.3/api/_as_gen/matplotlib.pyplot.plot.html)."
   ]
  },
  {
   "cell_type": "markdown",
   "metadata": {},
   "source": [
    "### Esercizio 2\n",
    "\n",
    "Utilizzando il dataframe contenenti i dati meteo (dal file *meteo.csv*) mettere in grafico \n",
    "- l'andamento delle temperature \n",
    "- la pressione \n",
    "- l'ammontare di pioggia\n",
    "\n",
    "Infine calcolare e mostrare nel plot la temperatura media giornaliera per ciascun giorno, e mostrala nel plot, così da avere una coppia di nuove colonne come queste:\n",
    "\n",
    "```\n",
    "    Giorno      Temp_media_giorno\n",
    "01/11/2017      7.983333\n",
    "01/11/2017      7.983333\n",
    "01/11/2017      7.983333\n",
    "    .               .\n",
    "    .               .\n",
    "02/11/2017      7.384375\n",
    "02/11/2017      7.384375\n",
    "02/11/2017      7.384375\n",
    "    .               .\n",
    "    .               .\n",
    "```\n",
    "\n",
    "\n",
    "**SUGGERIMENTO 1**: per i grafici di dati collezionati in un dataframe è possibile usare il metodo **plot()** di pandas, che di default utilizza matplotlib\n",
    "\n",
    "**SUGGERIMENTO 2**: aggiungi la colonna `'Giorno'` estraendo solo il giorno dalla data. Per farlo usa la funzione `.str` applicata a tutta la colonna.\n",
    "\n",
    "**SUGGERIMENTO 3**: Ci sono vari modi per risolvere il problema: \n",
    "\n",
    "- il più efficiente ed elegante è con l'operatore `groupby`, vedere [Pandas trasform - more than meets the eye](https://towardsdatascience.com/pandas-transform-more-than-meets-the-eye-928542b40b56)\n",
    "- Come alternative, potresti usare un `for` per ciclare i giorni. Tipicamente usare un `for` non è una buona idea con Pandas, perchè con dataset larghi ci può voler molto ad eseguire gli aggiornamenti. Comunque, dato che questo dataset è piccolo a sufficienza, puoi provare ad usare un `for` per ciclare sui giorni e dovresti ottenere i risultati in un tempo ragionevole"
   ]
  },
  {
   "cell_type": "code",
   "execution_count": 37,
   "metadata": {},
   "outputs": [
    {
     "name": "stdout",
     "output_type": "stream",
     "text": [
      "          Data  Temp Media\n",
      "0   01/11/2017    7.983333\n",
      "1   01/12/2017   -0.300000\n",
      "2   02/11/2017    7.384375\n",
      "3   03/11/2017    9.330208\n",
      "4   04/11/2017    8.343750\n",
      "5   05/11/2017    8.463542\n",
      "6   06/11/2017    8.627083\n",
      "7   07/11/2017    8.241053\n",
      "8   08/11/2017    8.170833\n",
      "9   09/11/2017    8.739583\n",
      "10  10/11/2017    7.491667\n",
      "11  11/11/2017    6.210417\n",
      "12  12/11/2017    7.519792\n",
      "13  13/11/2017    7.971875\n",
      "14  14/11/2017    9.142105\n",
      "15  15/11/2017    5.886458\n",
      "16  16/11/2017    7.044211\n",
      "17  17/11/2017    6.550000\n",
      "18  18/11/2017    5.835417\n",
      "19  19/11/2017    5.871875\n",
      "20  20/11/2017    5.252083\n",
      "21  21/11/2017    4.342708\n",
      "22  22/11/2017    5.033333\n",
      "23  23/11/2017    5.801042\n",
      "24  24/11/2017    5.381250\n",
      "25  25/11/2017    5.219792\n",
      "26  26/11/2017    7.446875\n",
      "27  27/11/2017    3.398958\n",
      "28  28/11/2017    0.793750\n",
      "29  29/11/2017    1.423958\n",
      "30  30/11/2017    3.543750\n"
     ]
    },
    {
     "data": {
      "text/plain": [
       "<AxesSubplot:>"
      ]
     },
     "execution_count": 37,
     "metadata": {},
     "output_type": "execute_result"
    },
    {
     "data": {
      "image/png": "[encoded data removed]",
      "text/plain": [
       "<Figure size 640x480 with 1 Axes>"
      ]
     },
     "metadata": {},
     "output_type": "display_data"
    }
   ],
   "source": [
    "# Completa qui l'esercizio 2\n",
    "# ...\n",
    "df2 = dfm\n",
    "df2['Data'] = dfm['Data'].apply(lambda s: s[0:10])\n",
    "df2 = df2.groupby('Data')['Temp'].\\\n",
    "aggregate('mean').rename(\"Temp Media\").reset_index()\n",
    "print(df2)\n",
    "df2.plot()"
   ]
  },
  {
   "cell_type": "markdown",
   "metadata": {},
   "source": [
    "## Scatter plot\n",
    "E' possibile creare uno scatterplot 2D utilizzando la funzione `scatter` per la quale trovate i dettagli nella [documentazione](https://matplotlib.org/3.5.3/api/_as_gen/matplotlib.pyplot.scatter.html)."
   ]
  },
  {
   "cell_type": "code",
   "execution_count": 30,
   "metadata": {},
   "outputs": [
    {
     "data": {
      "image/png": "[encoded data removed]",
      "text/plain": [
       "<Figure size 640x480 with 1 Axes>"
      ]
     },
     "metadata": {},
     "output_type": "display_data"
    }
   ],
   "source": [
    "#un esempio di scatterplot 2D\n",
    "import matplotlib.pyplot as plt\n",
    "import random\n",
    "        \n",
    "x1 = [random.gauss(50, 17) for _ in range(1000)]\n",
    "y1 = [random.gauss(60, 15) for _ in range(1000)]\n",
    "\n",
    "x2 = [random.gauss(100, 17) for _ in range(1000)]\n",
    "y2 = [random.gauss(120, 15) for _ in range(1000)]\n",
    "\n",
    "plt.scatter(x1, y1)\n",
    "plt.scatter(x2, y2)\n",
    "plt.show()"
   ]
  },
  {
   "cell_type": "markdown",
   "metadata": {},
   "source": [
    "## Boxplot\n",
    "\n",
    "E' possibile creare uno boxplot utilizzando la funzione `boxplot` per la quale trovate i dettagli nella [documentazione](https://matplotlib.org/3.5.3/api/_as_gen/matplotlib.pyplot.boxplot.html)."
   ]
  },
  {
   "cell_type": "code",
   "execution_count": 26,
   "metadata": {
    "scrolled": true
   },
   "outputs": [
    {
     "data": {
      "image/png": "[encoded data removed]",
      "text/plain": [
       "<Figure size 640x480 with 1 Axes>"
      ]
     },
     "metadata": {},
     "output_type": "display_data"
    }
   ],
   "source": [
    "plt.boxplot([x1,y1], labels = [\"x\", \"y\"])\n",
    "plt.show()"
   ]
  },
  {
   "cell_type": "markdown",
   "metadata": {},
   "source": [
    "## Subplot\n",
    "È possibile fare il plot di diversi elementi nella stessa figura utilizzando la funzione `subplot`"
   ]
  },
  {
   "cell_type": "code",
   "execution_count": 27,
   "metadata": {},
   "outputs": [
    {
     "data": {
      "image/png": "[encoded data removed]",
      "text/plain": [
       "<Figure size 640x480 with 2 Axes>"
      ]
     },
     "metadata": {},
     "output_type": "display_data"
    }
   ],
   "source": [
    "# Set up a subplot grid that has height 1 and width 2,\n",
    "# and set the first such subplot as active.\n",
    "plt.subplot(1, 2, 1)\n",
    "# Make the first plot\n",
    "plt.boxplot([x1, y1], labels = [\"x\", \"y\"])\n",
    "plt.title('Distribuzione 1')\n",
    "\n",
    "# Set the second subplot as active, and make the second plot.\n",
    "plt.subplot(1, 2, 2)\n",
    "# Make the second plot\n",
    "plt.boxplot([x2, y2], labels = [\"x\", \"y\"])\n",
    "plt.title('Distribuzione 2')\n",
    "\n",
    "# Show the figure.\n",
    "plt.show()"
   ]
  },
  {
   "cell_type": "markdown",
   "metadata": {},
   "source": [
    "Potete leggere ulteriori dettagli sulla funziona `subplot` nella [documentazione](https://matplotlib.org/3.5.3/api/_as_gen/matplotlib.pyplot.subplot.html)."
   ]
  },
  {
   "cell_type": "markdown",
   "metadata": {},
   "source": [
    "# Esercizio 3 \n",
    "Utilizzando la soluzione dell'esercitazione precedente (esercizio 3) definire due dataset composti da due classi e 10000 record con distribuzione uniforme e Gaussiana. Per ogni dataset calcolare le informazioni statistiche e infine fare il plot dell'istogramma nella stessa figura (due plot separati) e annotare graficamente il valore medio dell'intero dataset e i valori medi per le singole classi.\n",
    "\n",
    "### Suggerimenti\n",
    "Le opzioni grafiche della funzione sono contenute nella sezione riguardante i **\\*\\*kwargs**, contenuta tra gli *Other Parameters*. Per l'Annotazione' dovrete cercare altre funzioni nella [documentazione completa](https://matplotlib.org/3.5.3/api/_as_gen/matplotlib.pyplot.html)."
   ]
  },
  {
   "cell_type": "code",
   "execution_count": 86,
   "metadata": {},
   "outputs": [
    {
     "name": "stdout",
     "output_type": "stream",
     "text": [
      "Distribuzione 0:\n",
      "\n",
      "\tMedia totale:17.617412384014358\n",
      "\n",
      "\tMedia per classi:\n",
      "\n",
      "\t\t1 = 30.021059577242717\n",
      "\n",
      "\t\t2 = 5.0865023819683435\n",
      "Distribuzione 1:\n",
      "\n",
      "\tMedia totale:17.496143908277297\n",
      "\n",
      "\tMedia per classi:\n",
      "\n",
      "\t\t1 = 30.021059577242717\n",
      "\n",
      "\t\t2 = 5.0865023819683435\n"
     ]
    },
    {
     "data": {
      "image/png": "[encoded data removed]",
      "text/plain": [
       "<Figure size 640x480 with 2 Axes>"
      ]
     },
     "metadata": {},
     "output_type": "display_data"
    }
   ],
   "source": [
    "# Completa qui l'esercizio 3\n",
    "# ...\n",
    "import numpy as np\n",
    "import random as r\n",
    "def toy2(c,n=1,type=\"U\",l1=[],l2=[]):\n",
    "    #ERROR CONDITIONS\n",
    "    if n<1 | c<1:\n",
    "        return ([],[])\n",
    "    if (len(l1),len(l2)) != (c,c):\n",
    "        return ([],[])\n",
    "        \n",
    "    #GENERATION\n",
    "    uni = (type==\"U\")\n",
    "    y = np.array([int(i/n)+1 for i in range(c*n)])\n",
    "    fg = (np.random.normal,r.uniform)[uni] \n",
    "    x = np.array([fg(l1[i-1],l2[i-1]) for i in y])\n",
    "\n",
    "    #OUTPUT\n",
    "    #print(np.array([x,y]).transpose())\n",
    "    #print()\n",
    "    return (x,y)\n",
    "\n",
    "c = 2\n",
    "n = 5000\n",
    "ndist =2\n",
    "(ux,uy) = toy2(c,n,\"U\", [20,0],[40,10])\n",
    "(gx,gy) = toy2(c,n,\"G\", [30,5],[4,1])\n",
    "npars = np.array([np.array([ux,uy]).transpose(),np.array([gx,gy]).transpose()])\n",
    "dfs = [pd.DataFrame(x,columns = ['X','Y']) for x in npars]\n",
    "\n",
    "dfu = pd.DataFrame(u, columns = ['X','Y'])\n",
    "dfg = pd.DataFrame(g, columns = ['X','Y'])\n",
    "\n",
    "i=0\n",
    "for dfi in dfs:\n",
    "    print(\"Distribuzione \"+str(i)+\":\\n\")\n",
    "    mean_all = dfi['X'].describe()['mean']\n",
    "    print(\"\\tMedia totale:\" + str(mean_all))\n",
    "    plt.axvline(mean_all)\n",
    "    print(\"\\n\\tMedia per classi:\")\n",
    "    means=dfu.groupby('Y')['X'].aggregate('mean').rename('Media').reset_index()\n",
    "    \n",
    "    plt.subplot(ndist,1,i+1)\n",
    "    plt.hist(dfi['X'], bins=50, density=True, facecolor='green')\n",
    "    for ci in range(c):\n",
    "        mean_class = means['Media'].iloc[ci]\n",
    "        plt.axvline(mean_class)\n",
    "        print(\"\\n\\t\\t\"+str(ci+1)+\" = \" + str(mean_class))\n",
    "    plt.axis([-10, 70, 0, 0.25])\n",
    "    i+=1\n",
    "\n",
    "plt.show()"
   ]
  },
  {
   "cell_type": "code",
   "execution_count": null,
   "metadata": {},
   "outputs": [],
   "source": []
  }
 ],
 "metadata": {
  "anaconda-cloud": {},
  "celltoolbar": "Edit Metadata",
  "kernelspec": {
   "display_name": "Python 3 (ipykernel)",
   "language": "python",
   "name": "python3"
  },
  "language_info": {
   "codemirror_mode": {
    "name": "ipython",
    "version": 3
   },
   "file_extension": ".py",
   "mimetype": "text/x-python",
   "name": "python",
   "nbconvert_exporter": "python",
   "pygments_lexer": "ipython3",
   "version": "3.10.4"
  }
 },
 "nbformat": 4,
 "nbformat_minor": 4
}
